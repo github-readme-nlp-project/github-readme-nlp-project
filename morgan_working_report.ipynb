{
 "cells": [
  {
   "cell_type": "code",
   "execution_count": 1,
   "id": "8b732860-91a7-4d21-9a8b-332b1fed149e",
   "metadata": {},
   "outputs": [],
   "source": [
    "import numpy as np\n",
    "import pandas as pd\n",
    "import requests\n",
    "from bs4 import BeautifulSoup\n",
    "import nltk\n",
    "import re\n",
    "import unicodedata\n",
    "from nltk.corpus import stopwords\n",
    "import prepare"
   ]
  },
  {
   "cell_type": "code",
   "execution_count": 2,
   "id": "8962f234-f5d7-4aa7-813b-6f869b0fe368",
   "metadata": {},
   "outputs": [],
   "source": [
    "url = 'https://github.com/search?q=stars%3A%3E5&type=Repositories'"
   ]
  },
  {
   "cell_type": "code",
   "execution_count": 3,
   "id": "49750f8e-f698-4431-a2e8-6f38b1ebb983",
   "metadata": {},
   "outputs": [
    {
     "data": {
      "text/plain": [
       "<Response [429]>"
      ]
     },
     "execution_count": 3,
     "metadata": {},
     "output_type": "execute_result"
    }
   ],
   "source": [
    "requests.get(url)"
   ]
  },
  {
   "cell_type": "code",
   "execution_count": 231,
   "id": "4889fc1c-d36d-4bdd-b97f-d0b1114b3f4d",
   "metadata": {},
   "outputs": [],
   "source": [
    "soup = BeautifulSoup(requests.get(url).content, 'html.parser')\n",
    "# soup"
   ]
  },
  {
   "cell_type": "code",
   "execution_count": 232,
   "id": "e6f8f69d-6c56-4366-81e8-e1a0de0216fa",
   "metadata": {},
   "outputs": [
    {
     "ename": "IndexError",
     "evalue": "list index out of range",
     "output_type": "error",
     "traceback": [
      "\u001b[0;31m---------------------------------------------------------------------------\u001b[0m",
      "\u001b[0;31mIndexError\u001b[0m                                Traceback (most recent call last)",
      "Input \u001b[0;32mIn [232]\u001b[0m, in \u001b[0;36m<cell line: 2>\u001b[0;34m()\u001b[0m\n\u001b[1;32m      1\u001b[0m repos \u001b[38;5;241m=\u001b[39m soup\u001b[38;5;241m.\u001b[39mselect(\u001b[38;5;124m'\u001b[39m\u001b[38;5;124ma.v-align-middle\u001b[39m\u001b[38;5;124m'\u001b[39m)\n\u001b[0;32m----> 2\u001b[0m \u001b[43mrepos\u001b[49m\u001b[43m[\u001b[49m\u001b[38;5;241;43m0\u001b[39;49m\u001b[43m]\u001b[49m[\u001b[38;5;124m'\u001b[39m\u001b[38;5;124mhref\u001b[39m\u001b[38;5;124m'\u001b[39m]\n",
      "\u001b[0;31mIndexError\u001b[0m: list index out of range"
     ]
    }
   ],
   "source": [
    "repos = soup.select('a.v-align-middle')\n",
    "repos[0]['href']"
   ]
  },
  {
   "cell_type": "code",
   "execution_count": 47,
   "id": "04ef32b1-98ab-459d-a8b6-8cf5f0c735d6",
   "metadata": {},
   "outputs": [],
   "source": [
    "names = []\n",
    "for r in repos:\n",
    "    repo_name = r['href']\n",
    "    names.append(repo_name)"
   ]
  },
  {
   "cell_type": "code",
   "execution_count": 48,
   "id": "cd2f94bd-0623-4a56-821e-27ec0e35cc39",
   "metadata": {},
   "outputs": [
    {
     "data": {
      "text/plain": [
       "['/freeCodeCamp/freeCodeCamp',\n",
       " '/996icu/996.ICU',\n",
       " '/EbookFoundation/free-programming-books',\n",
       " '/jwasham/coding-interview-university',\n",
       " '/sindresorhus/awesome',\n",
       " '/kamranahmedse/developer-roadmap',\n",
       " '/public-apis/public-apis',\n",
       " '/vuejs/vue',\n",
       " '/facebook/react',\n",
       " '/tensorflow/tensorflow']"
      ]
     },
     "execution_count": 48,
     "metadata": {},
     "output_type": "execute_result"
    }
   ],
   "source": [
    "names"
   ]
  },
  {
   "cell_type": "code",
   "execution_count": 37,
   "id": "67addf44-736b-4a75-b907-a928a9f35c01",
   "metadata": {},
   "outputs": [
    {
     "data": {
      "text/plain": [
       "25"
      ]
     },
     "execution_count": 37,
     "metadata": {},
     "output_type": "execute_result"
    }
   ],
   "source": [
    "len(names)"
   ]
  },
  {
   "cell_type": "code",
   "execution_count": 8,
   "id": "0b86a8b0-17a6-4753-9bcb-dbacf07be3b6",
   "metadata": {},
   "outputs": [],
   "source": [
    "def get_repo_names():\n",
    "    names = []\n",
    "    url = 'https://github.com/search?q=stars%3A%3E5&type=Repositories'\n",
    "    soup = BeautifulSoup(requests.get(url).content, 'html.parser')\n",
    "    repos = soup.select('a.v-align-middle')\n",
    "    for r in repos:\n",
    "        repo_name = r['href']\n",
    "        names.append(repo_name)\n",
    "    page = 2\n",
    "    while page <= 10:\n",
    "        url = f'https://github.com/search?p={page}&q=stars%3A%3E5&type=Repositories'\n",
    "        soup = BeautifulSoup(requests.get(url).content, 'html.parser')\n",
    "        repos = soup.select('a.v-align-middle')\n",
    "        for r in repos:\n",
    "            repo_name = r['href']\n",
    "            names.append(repo_name)\n",
    "        print('moving to page '+str(page))\n",
    "        page += 1\n",
    "    \n",
    "    return names"
   ]
  },
  {
   "cell_type": "code",
   "execution_count": 9,
   "id": "8960c675-82cf-42f7-9739-c4b46f0ed5f6",
   "metadata": {},
   "outputs": [
    {
     "name": "stdout",
     "output_type": "stream",
     "text": [
      "moving to page 2\n",
      "moving to page 3\n",
      "moving to page 4\n",
      "moving to page 5\n",
      "moving to page 6\n",
      "moving to page 7\n",
      "moving to page 8\n",
      "moving to page 9\n",
      "moving to page 10\n"
     ]
    }
   ],
   "source": [
    "test = get_repo_names()"
   ]
  },
  {
   "cell_type": "code",
   "execution_count": 10,
   "id": "8e714493-4a2a-43ea-b728-9cb2ea67f448",
   "metadata": {},
   "outputs": [
    {
     "data": {
      "text/plain": [
       "['/freeCodeCamp/freeCodeCamp',\n",
       " '/996icu/996.ICU',\n",
       " '/EbookFoundation/free-programming-books',\n",
       " '/jwasham/coding-interview-university',\n",
       " '/sindresorhus/awesome',\n",
       " '/kamranahmedse/developer-roadmap',\n",
       " '/public-apis/public-apis',\n",
       " '/donnemartin/system-design-primer',\n",
       " '/vuejs/vue',\n",
       " '/facebook/react',\n",
       " '/tensorflow/tensorflow',\n",
       " '/codecrafters-io/build-your-own-x',\n",
       " '/getify/You-Dont-Know-JS',\n",
       " '/twbs/bootstrap',\n",
       " '/CyC2018/CS-Notes',\n",
       " '/trekhleb/javascript-algorithms',\n",
       " '/ohmyzsh/ohmyzsh',\n",
       " '/TheAlgorithms/Python',\n",
       " '/vinta/awesome-python',\n",
       " '/torvalds/linux',\n",
       " '/airbnb/javascript',\n",
       " '/jackfrued/Python-100-Days',\n",
       " '/ossu/computer-science',\n",
       " '/ytdl-org/youtube-dl',\n",
       " '/jlevy/the-art-of-command-line',\n",
       " '/labuladong/fucking-algorithm',\n",
       " '/awesome-selfhosted/awesome-selfhosted',\n",
       " '/facebook/react-native',\n",
       " '/golang/go',\n",
       " '/electron/electron',\n",
       " '/awesome-selfhosted/awesome-selfhosted',\n",
       " '/facebook/react-native',\n",
       " '/golang/go',\n",
       " '/electron/electron',\n",
       " '/30-seconds/30-seconds-of-code',\n",
       " '/d3/d3',\n",
       " '/facebook/create-react-app',\n",
       " '/axios/axios',\n",
       " '/justjavac/free-programming-books-zh_CN',\n",
       " '/vercel/next.js',\n",
       " '/kubernetes/kubernetes',\n",
       " '/nodejs/node',\n",
       " '/avelino/awesome-go',\n",
       " '/mrdoob/three.js',\n",
       " '/denoland/deno',\n",
       " '/microsoft/terminal',\n",
       " '/microsoft/TypeScript',\n",
       " '/angular/angular',\n",
       " '/goldbergyoni/nodebestpractices',\n",
       " '/ant-design/ant-design']"
      ]
     },
     "execution_count": 10,
     "metadata": {},
     "output_type": "execute_result"
    }
   ],
   "source": [
    "test"
   ]
  },
  {
   "cell_type": "code",
   "execution_count": 11,
   "id": "3ae7a537-83fd-44f6-be50-6a66c7ab2079",
   "metadata": {},
   "outputs": [],
   "source": [
    "# df = acquire.scrape_github_data()\n",
    "# pd.DataFrame(df)"
   ]
  },
  {
   "cell_type": "code",
   "execution_count": 4,
   "id": "77678a5b-40a1-4c87-b3f1-31403d4e4904",
   "metadata": {},
   "outputs": [],
   "source": [
    "df = pd.read_json('data.json')"
   ]
  },
  {
   "cell_type": "code",
   "execution_count": 5,
   "id": "3a89707b-e0a1-4864-8edb-f4d15594dc62",
   "metadata": {},
   "outputs": [
    {
     "data": {
      "text/plain": [
       "repo                0\n",
       "language           14\n",
       "readme_contents     0\n",
       "dtype: int64"
      ]
     },
     "execution_count": 5,
     "metadata": {},
     "output_type": "execute_result"
    }
   ],
   "source": [
    "df.isnull().sum()"
   ]
  },
  {
   "cell_type": "code",
   "execution_count": 6,
   "id": "bcf3659e-6dcc-40a1-9d83-1aa58183c5b5",
   "metadata": {},
   "outputs": [
    {
     "data": {
      "text/html": [
       "<div>\n",
       "<style scoped>\n",
       "    .dataframe tbody tr th:only-of-type {\n",
       "        vertical-align: middle;\n",
       "    }\n",
       "\n",
       "    .dataframe tbody tr th {\n",
       "        vertical-align: top;\n",
       "    }\n",
       "\n",
       "    .dataframe thead th {\n",
       "        text-align: right;\n",
       "    }\n",
       "</style>\n",
       "<table border=\"1\" class=\"dataframe\">\n",
       "  <thead>\n",
       "    <tr style=\"text-align: right;\">\n",
       "      <th></th>\n",
       "      <th>repo</th>\n",
       "      <th>language</th>\n",
       "      <th>readme_contents</th>\n",
       "    </tr>\n",
       "  </thead>\n",
       "  <tbody>\n",
       "    <tr>\n",
       "      <th>171</th>\n",
       "      <td>/gzc426/Java-Interview</td>\n",
       "      <td>None</td>\n",
       "      <td>\\n- 本仓库会持续更新，欢迎Star给一个鼓励！\\n- 本github最初的版本是一份wo...</td>\n",
       "    </tr>\n",
       "    <tr>\n",
       "      <th>182</th>\n",
       "      <td>/IdreesInc/Monocraft</td>\n",
       "      <td>None</td>\n",
       "      <td># Monocraft\\n\\n![](images/preview.png)\\n\\nThe ...</td>\n",
       "    </tr>\n",
       "    <tr>\n",
       "      <th>184</th>\n",
       "      <td>/ribot/android-guidelines</td>\n",
       "      <td>None</td>\n",
       "      <td>Thank you for your interest in ribot’s develop...</td>\n",
       "    </tr>\n",
       "    <tr>\n",
       "      <th>195</th>\n",
       "      <td>/privacy-protection-tools/anti-AD</td>\n",
       "      <td>None</td>\n",
       "      <td># anti-AD\\n\\n#### 致力于成为中文区命中率最高的广告过滤列表，实现精确的广告...</td>\n",
       "    </tr>\n",
       "    <tr>\n",
       "      <th>206</th>\n",
       "      <td>/OpnTec/openxlab-artwork</td>\n",
       "      <td>None</td>\n",
       "      <td># openxlab-artwork\\nOpenXlab Artwork\\n</td>\n",
       "    </tr>\n",
       "    <tr>\n",
       "      <th>207</th>\n",
       "      <td>/CPdogson/996action</td>\n",
       "      <td>None</td>\n",
       "      <td>&gt; 最新进展：\\r\\n- 条例修改建议：[向国务院提议修改《劳动保障监察条例》的初步设计](...</td>\n",
       "    </tr>\n",
       "    <tr>\n",
       "      <th>213</th>\n",
       "      <td>/qinjx/30min_guides</td>\n",
       "      <td>None</td>\n",
       "      <td>30min_guides\\n============\\n\\n覃健祥的学习笔记，各种几十分钟入...</td>\n",
       "    </tr>\n",
       "    <tr>\n",
       "      <th>227</th>\n",
       "      <td>/toddmotto/angularjs-styleguide</td>\n",
       "      <td>None</td>\n",
       "      <td># AngularJS styleguide (ES2015)\\n\\n### Up-to-d...</td>\n",
       "    </tr>\n",
       "    <tr>\n",
       "      <th>232</th>\n",
       "      <td>/audreyfeldroy/favicon-cheat-sheet</td>\n",
       "      <td>None</td>\n",
       "      <td>favicon-cheat-sheet\\n===================\\n\\nA ...</td>\n",
       "    </tr>\n",
       "    <tr>\n",
       "      <th>236</th>\n",
       "      <td>/acdlite/react-fiber-architecture</td>\n",
       "      <td>None</td>\n",
       "      <td># React Fiber Architecture\\n\\n## Introduction\\...</td>\n",
       "    </tr>\n",
       "    <tr>\n",
       "      <th>248</th>\n",
       "      <td>/itdevbooks/pdf</td>\n",
       "      <td>None</td>\n",
       "      <td># 最新 1500 多本计算机电子书免费下载\\n\\n\\n## 整理那么辛苦，求个 Star，...</td>\n",
       "    </tr>\n",
       "    <tr>\n",
       "      <th>254</th>\n",
       "      <td>/leereilly/games</td>\n",
       "      <td>None</td>\n",
       "      <td># Games on GitHub &lt;img src=\"http://i.imgur.com...</td>\n",
       "    </tr>\n",
       "    <tr>\n",
       "      <th>255</th>\n",
       "      <td>/futurice/android-best-practices</td>\n",
       "      <td>None</td>\n",
       "      <td># Best practices in Android development\\n\\nAvo...</td>\n",
       "    </tr>\n",
       "    <tr>\n",
       "      <th>258</th>\n",
       "      <td>/microsoft/api-guidelines</td>\n",
       "      <td>None</td>\n",
       "      <td># Microsoft REST API Guidelines\\nThe [Microsof...</td>\n",
       "    </tr>\n",
       "  </tbody>\n",
       "</table>\n",
       "</div>"
      ],
      "text/plain": [
       "                                   repo language  \\\n",
       "171              /gzc426/Java-Interview     None   \n",
       "182                /IdreesInc/Monocraft     None   \n",
       "184           /ribot/android-guidelines     None   \n",
       "195   /privacy-protection-tools/anti-AD     None   \n",
       "206            /OpnTec/openxlab-artwork     None   \n",
       "207                 /CPdogson/996action     None   \n",
       "213                 /qinjx/30min_guides     None   \n",
       "227     /toddmotto/angularjs-styleguide     None   \n",
       "232  /audreyfeldroy/favicon-cheat-sheet     None   \n",
       "236   /acdlite/react-fiber-architecture     None   \n",
       "248                     /itdevbooks/pdf     None   \n",
       "254                    /leereilly/games     None   \n",
       "255    /futurice/android-best-practices     None   \n",
       "258           /microsoft/api-guidelines     None   \n",
       "\n",
       "                                       readme_contents  \n",
       "171  \\n- 本仓库会持续更新，欢迎Star给一个鼓励！\\n- 本github最初的版本是一份wo...  \n",
       "182  # Monocraft\\n\\n![](images/preview.png)\\n\\nThe ...  \n",
       "184  Thank you for your interest in ribot’s develop...  \n",
       "195  # anti-AD\\n\\n#### 致力于成为中文区命中率最高的广告过滤列表，实现精确的广告...  \n",
       "206             # openxlab-artwork\\nOpenXlab Artwork\\n  \n",
       "207  > 最新进展：\\r\\n- 条例修改建议：[向国务院提议修改《劳动保障监察条例》的初步设计](...  \n",
       "213  30min_guides\\n============\\n\\n覃健祥的学习笔记，各种几十分钟入...  \n",
       "227  # AngularJS styleguide (ES2015)\\n\\n### Up-to-d...  \n",
       "232  favicon-cheat-sheet\\n===================\\n\\nA ...  \n",
       "236  # React Fiber Architecture\\n\\n## Introduction\\...  \n",
       "248  # 最新 1500 多本计算机电子书免费下载\\n\\n\\n## 整理那么辛苦，求个 Star，...  \n",
       "254  # Games on GitHub <img src=\"http://i.imgur.com...  \n",
       "255  # Best practices in Android development\\n\\nAvo...  \n",
       "258  # Microsoft REST API Guidelines\\nThe [Microsof...  "
      ]
     },
     "execution_count": 6,
     "metadata": {},
     "output_type": "execute_result"
    }
   ],
   "source": [
    "df[df.language.isnull()]"
   ]
  },
  {
   "cell_type": "code",
   "execution_count": 8,
   "id": "a208e2a8-ac1f-4b43-af62-91f6fe0526d0",
   "metadata": {},
   "outputs": [],
   "source": [
    "df_clean = prepare.clean_df(df,\n",
    "                    ['readme_contents'],\n",
    "                    'stemming',\n",
    "                    extra_words=['\\'', 'td', '&#9', 'a', 'br', '&#9;', 'use'])"
   ]
  },
  {
   "cell_type": "code",
   "execution_count": 9,
   "id": "927b9e36-e39e-418b-b05e-c6a4a3441a6c",
   "metadata": {},
   "outputs": [],
   "source": [
    "# df = df.dropna()"
   ]
  },
  {
   "cell_type": "code",
   "execution_count": 11,
   "id": "1f7c30d0-48a7-49c0-9dc7-16f341871d3d",
   "metadata": {},
   "outputs": [
    {
     "data": {
      "text/plain": [
       "repo                     0\n",
       "language                 0\n",
       "readme_contents          0\n",
       "readme_contents_clean    0\n",
       "dtype: int64"
      ]
     },
     "execution_count": 11,
     "metadata": {},
     "output_type": "execute_result"
    }
   ],
   "source": [
    "df_clean.isnull().sum()"
   ]
  },
  {
   "cell_type": "code",
   "execution_count": 12,
   "id": "67892341-570d-4cad-85da-7f1556d72283",
   "metadata": {},
   "outputs": [
    {
     "data": {
      "text/plain": [
       "JavaScript    97\n",
       "Python        97\n",
       "Other         42\n",
       "Go            10\n",
       "Name: language, dtype: int64"
      ]
     },
     "execution_count": 12,
     "metadata": {},
     "output_type": "execute_result"
    }
   ],
   "source": [
    "df_clean.language.value_counts()"
   ]
  },
  {
   "cell_type": "code",
   "execution_count": 13,
   "id": "904a7473-464a-48eb-8ae9-3f70cfba6a6d",
   "metadata": {},
   "outputs": [
    {
     "data": {
      "text/plain": [
       "(246, 4)"
      ]
     },
     "execution_count": 13,
     "metadata": {},
     "output_type": "execute_result"
    }
   ],
   "source": [
    "df_clean.shape"
   ]
  },
  {
   "cell_type": "code",
   "execution_count": 15,
   "id": "d6a6524b-c32a-4a58-ae62-fadb27a5ef26",
   "metadata": {},
   "outputs": [],
   "source": [
    "# def create_other(df):\n",
    "#     copy = df.language.copy()\n",
    "#     output = []\n",
    "#     for lang in copy:\n",
    "#         if (lang != 'JavaScript') & (lang != 'Python') & (lang != 'Go'):\n",
    "#             output.append('Other')\n",
    "#         else:\n",
    "#             output.append(lang)\n",
    "#     return output"
   ]
  },
  {
   "cell_type": "code",
   "execution_count": 16,
   "id": "b17eda1f-1391-43a1-9f86-6ada8e1d5f4b",
   "metadata": {},
   "outputs": [],
   "source": [
    "# # potentially for project use\n",
    "# def clean_df(df, cols_to_clean, method='lemmatize', extra_words=[], exclude_words=[]):\n",
    "#     d = df.copy()\n",
    "#     for col in cols_to_clean:\n",
    "#         d[col+'_clean'] = clean_data(d[col], method, extra_words, exclude_words)\n",
    "#     return d\n",
    "\n",
    "# def clean_data(col, method='lemmatize', extra_words=[], exclude_words=[]):\n",
    "#     bc = [basic_clean(entry) for entry in col]   \n",
    "#     t = [tokenize(entry) for entry in bc]\n",
    "#     if method == 'lemmatize':\n",
    "#         l = [lemmatize(entry) for entry in t]\n",
    "#         return [remove_stopwords(entry, extra_words, exclude_words) for entry in l]\n",
    "#     if method == 'stemming':\n",
    "#         s = [stem(entry) for entry in t]\n",
    "#         return [remove_stopwords(entry, extra_words, exclude_words) for entry in s]\n",
    "\n",
    "\n",
    "# # backgroud functions used inside of above functions\n",
    "# def basic_clean(text):\n",
    "#     temp = text.lower()\n",
    "#     temp = unicodedata.normalize('NFKD', temp).encode('ascii', 'ignore').decode('utf-8', 'ignore')\n",
    "#     temp = re.sub(r'[^a-zA-Z0-9\\'\\s]', '', temp)\n",
    "#     return temp\n",
    "\n",
    "# def tokenize(text):\n",
    "#     token = nltk.tokenize.ToktokTokenizer()\n",
    "#     temp = token.tokenize(text, return_str=True)\n",
    "#     return temp\n",
    "\n",
    "# def stem(text):\n",
    "#     ps = nltk.porter.PorterStemmer()\n",
    "#     stems = [ps.stem(word) for word in text.split(' ')]\n",
    "#     stemmed = ' '.join(stems)\n",
    "#     return stemmed\n",
    "\n",
    "# def lemmatize(text):\n",
    "#     wnl = nltk.stem.WordNetLemmatizer()\n",
    "#     lemons = [wnl.lemmatize(word) for word in text.split(' ')]\n",
    "#     lemmatized = ' '.join(lemons)\n",
    "#     return lemmatized\n",
    "\n",
    "# def remove_stopwords(text, extra_words=[], exclude_words=[]):\n",
    "#     words = text.split(' ')\n",
    "#     stopwords_list = stopwords.words('english')\n",
    "#     if len(extra_words) > 0:\n",
    "#         stopwords_list.extend(extra_words)\n",
    "#     if len(exclude_words) > 0:\n",
    "#         [stopwords_list.remove(w) for w in exclude_words]\n",
    "#     filtered_words = [word for word in words if word not in stopwords_list]\n",
    "#     return ' '.join(filtered_words)"
   ]
  },
  {
   "cell_type": "code",
   "execution_count": 17,
   "id": "4d3c196f-9e2b-43a2-978f-7bd6003eec3d",
   "metadata": {},
   "outputs": [
    {
     "data": {
      "text/html": [
       "<div>\n",
       "<style scoped>\n",
       "    .dataframe tbody tr th:only-of-type {\n",
       "        vertical-align: middle;\n",
       "    }\n",
       "\n",
       "    .dataframe tbody tr th {\n",
       "        vertical-align: top;\n",
       "    }\n",
       "\n",
       "    .dataframe thead th {\n",
       "        text-align: right;\n",
       "    }\n",
       "</style>\n",
       "<table border=\"1\" class=\"dataframe\">\n",
       "  <thead>\n",
       "    <tr style=\"text-align: right;\">\n",
       "      <th></th>\n",
       "      <th>repo</th>\n",
       "      <th>language</th>\n",
       "      <th>readme_contents</th>\n",
       "      <th>readme_contents_clean</th>\n",
       "    </tr>\n",
       "  </thead>\n",
       "  <tbody>\n",
       "    <tr>\n",
       "      <th>0</th>\n",
       "      <td>/facebook/react</td>\n",
       "      <td>JavaScript</td>\n",
       "      <td># [React](https://reactjs.org/) &amp;middot; [![Gi...</td>\n",
       "      <td>reacthttpsreactjsorg middot github licensehttp...</td>\n",
       "    </tr>\n",
       "    <tr>\n",
       "      <th>1</th>\n",
       "      <td>/awesome-selfhosted/awesome-selfhosted</td>\n",
       "      <td>JavaScript</td>\n",
       "      <td># Awesome-Selfhosted\\n\\n[![Awesome](https://cd...</td>\n",
       "      <td>awesomeselfhosted\\n\\nawesomehttpscdnjsdelivrne...</td>\n",
       "    </tr>\n",
       "    <tr>\n",
       "      <th>2</th>\n",
       "      <td>/30-seconds/30-seconds-of-code</td>\n",
       "      <td>JavaScript</td>\n",
       "      <td>[![Logo](/logo.png)](https://30secondsofcode.o...</td>\n",
       "      <td>logologopnghttps30secondsofcodeorgjsp1\\n\\n 30 ...</td>\n",
       "    </tr>\n",
       "    <tr>\n",
       "      <th>3</th>\n",
       "      <td>/facebook/create-react-app</td>\n",
       "      <td>JavaScript</td>\n",
       "      <td># Create React App [![Build Status](https://de...</td>\n",
       "      <td>creat react app build statushttpsdevazurecomfa...</td>\n",
       "    </tr>\n",
       "    <tr>\n",
       "      <th>4</th>\n",
       "      <td>/vercel/next.js</td>\n",
       "      <td>JavaScript</td>\n",
       "      <td>packages/next/README.md</td>\n",
       "      <td>packagesnextreadmemd</td>\n",
       "    </tr>\n",
       "    <tr>\n",
       "      <th>...</th>\n",
       "      <td>...</td>\n",
       "      <td>...</td>\n",
       "      <td>...</td>\n",
       "      <td>...</td>\n",
       "    </tr>\n",
       "    <tr>\n",
       "      <th>252</th>\n",
       "      <td>/JohnCoates/Aerial</td>\n",
       "      <td>Other</td>\n",
       "      <td>&lt;p align=\"center\"&gt;\\n  &lt;img src=\"https://cloud....</td>\n",
       "      <td>p aligncenter\\n img srchttpscloudgithubusercon...</td>\n",
       "    </tr>\n",
       "    <tr>\n",
       "      <th>253</th>\n",
       "      <td>/OpenZeppelin/openzeppelin-contracts</td>\n",
       "      <td>JavaScript</td>\n",
       "      <td># &lt;img src=\"logo.svg\" alt=\"OpenZeppelin\" heigh...</td>\n",
       "      <td>img srclogosvg altopenzeppelin height40px\\n\\nd...</td>\n",
       "    </tr>\n",
       "    <tr>\n",
       "      <th>256</th>\n",
       "      <td>/petkaantonov/bluebird</td>\n",
       "      <td>JavaScript</td>\n",
       "      <td>&lt;a href=\"http://promisesaplus.com/\"&gt;\\n    &lt;img...</td>\n",
       "      <td>hrefhttppromisesapluscom\\n img srchttppromises...</td>\n",
       "    </tr>\n",
       "    <tr>\n",
       "      <th>257</th>\n",
       "      <td>/yichengchen/clashX</td>\n",
       "      <td>Other</td>\n",
       "      <td>&lt;h1 align=\"center\"&gt;\\n  &lt;img src=\"https://githu...</td>\n",
       "      <td>h1 aligncenter\\n img srchttpsgithubcomdreamacr...</td>\n",
       "    </tr>\n",
       "    <tr>\n",
       "      <th>259</th>\n",
       "      <td>/nothings/stb</td>\n",
       "      <td>Other</td>\n",
       "      <td>&lt;!---   THIS FILE IS AUTOMATICALLY GENERATED, ...</td>\n",
       "      <td>thi file automat gener chang hand \\n\\nstb\\n\\n\\...</td>\n",
       "    </tr>\n",
       "  </tbody>\n",
       "</table>\n",
       "<p>246 rows × 4 columns</p>\n",
       "</div>"
      ],
      "text/plain": [
       "                                       repo    language  \\\n",
       "0                           /facebook/react  JavaScript   \n",
       "1    /awesome-selfhosted/awesome-selfhosted  JavaScript   \n",
       "2            /30-seconds/30-seconds-of-code  JavaScript   \n",
       "3                /facebook/create-react-app  JavaScript   \n",
       "4                           /vercel/next.js  JavaScript   \n",
       "..                                      ...         ...   \n",
       "252                      /JohnCoates/Aerial       Other   \n",
       "253    /OpenZeppelin/openzeppelin-contracts  JavaScript   \n",
       "256                  /petkaantonov/bluebird  JavaScript   \n",
       "257                     /yichengchen/clashX       Other   \n",
       "259                           /nothings/stb       Other   \n",
       "\n",
       "                                       readme_contents  \\\n",
       "0    # [React](https://reactjs.org/) &middot; [![Gi...   \n",
       "1    # Awesome-Selfhosted\\n\\n[![Awesome](https://cd...   \n",
       "2    [![Logo](/logo.png)](https://30secondsofcode.o...   \n",
       "3    # Create React App [![Build Status](https://de...   \n",
       "4                              packages/next/README.md   \n",
       "..                                                 ...   \n",
       "252  <p align=\"center\">\\n  <img src=\"https://cloud....   \n",
       "253  # <img src=\"logo.svg\" alt=\"OpenZeppelin\" heigh...   \n",
       "256  <a href=\"http://promisesaplus.com/\">\\n    <img...   \n",
       "257  <h1 align=\"center\">\\n  <img src=\"https://githu...   \n",
       "259  <!---   THIS FILE IS AUTOMATICALLY GENERATED, ...   \n",
       "\n",
       "                                 readme_contents_clean  \n",
       "0    reacthttpsreactjsorg middot github licensehttp...  \n",
       "1    awesomeselfhosted\\n\\nawesomehttpscdnjsdelivrne...  \n",
       "2    logologopnghttps30secondsofcodeorgjsp1\\n\\n 30 ...  \n",
       "3    creat react app build statushttpsdevazurecomfa...  \n",
       "4                                 packagesnextreadmemd  \n",
       "..                                                 ...  \n",
       "252  p aligncenter\\n img srchttpscloudgithubusercon...  \n",
       "253  img srclogosvg altopenzeppelin height40px\\n\\nd...  \n",
       "256  hrefhttppromisesapluscom\\n img srchttppromises...  \n",
       "257  h1 aligncenter\\n img srchttpsgithubcomdreamacr...  \n",
       "259  thi file automat gener chang hand \\n\\nstb\\n\\n\\...  \n",
       "\n",
       "[246 rows x 4 columns]"
      ]
     },
     "execution_count": 17,
     "metadata": {},
     "output_type": "execute_result"
    }
   ],
   "source": [
    "df_clean"
   ]
  },
  {
   "cell_type": "code",
   "execution_count": 161,
   "id": "6d23bce9-166a-4c17-a7f2-87595d8e0e65",
   "metadata": {},
   "outputs": [],
   "source": [
    "all_words = ' '.join(df_clean['readme_contents_clean'])\n",
    "js_words = ' '.join(df_clean[df_clean.language == 'JavaScript']['readme_contents_clean'])\n",
    "py_words = ' '.join(df_clean[df_clean.language == 'Python']['readme_contents_clean'])\n",
    "go_words = ' '.join(df_clean[df_clean.language == 'Go']['readme_contents_clean'])\n",
    "ot_words = ' '.join(df_clean[df_clean.language == 'Other']['readme_contents_clean'])"
   ]
  },
  {
   "cell_type": "code",
   "execution_count": 162,
   "id": "651abdd2-9f50-48d2-bfb5-71f7a2e314f4",
   "metadata": {},
   "outputs": [],
   "source": [
    "all_freq = pd.Series(all_words.split()).value_counts()\n",
    "js_freq = pd.Series(js_words.split()).value_counts()\n",
    "py_freq = pd.Series(py_words.split()).value_counts()\n",
    "go_freq = pd.Series(go_words.split()).value_counts()\n",
    "ot_freq = pd.Series(ot_words.split()).value_counts()"
   ]
  },
  {
   "cell_type": "code",
   "execution_count": 163,
   "id": "4baeb51e-4c95-4d04-afc7-2c2340a349b7",
   "metadata": {},
   "outputs": [
    {
     "data": {
      "text/plain": [
       "a             2297\n",
       "thi           1773\n",
       "sourc         1311\n",
       "javascript    1271\n",
       "li            1185\n",
       "dtype: int64"
      ]
     },
     "execution_count": 163,
     "metadata": {},
     "output_type": "execute_result"
    }
   ],
   "source": [
    "all_freq.head()"
   ]
  },
  {
   "cell_type": "code",
   "execution_count": 164,
   "id": "b8938f1c-89de-489f-84f7-40c0dfca7642",
   "metadata": {},
   "outputs": [
    {
     "data": {
      "text/plain": [
       "javascript    1189\n",
       "sourc         1125\n",
       "thi            867\n",
       "a              797\n",
       "react          731\n",
       "dtype: int64"
      ]
     },
     "execution_count": 164,
     "metadata": {},
     "output_type": "execute_result"
    }
   ],
   "source": [
    "js_freq.head()"
   ]
  },
  {
   "cell_type": "code",
   "execution_count": 165,
   "id": "bcb1e66a-2c37-4117-8ae1-be80d991ea53",
   "metadata": {},
   "outputs": [
    {
     "data": {
      "text/plain": [
       "thi       461\n",
       "python    442\n",
       "instal    327\n",
       "br        314\n",
       "file      294\n",
       "dtype: int64"
      ]
     },
     "execution_count": 165,
     "metadata": {},
     "output_type": "execute_result"
    }
   ],
   "source": [
    "py_freq.head()"
   ]
  },
  {
   "cell_type": "code",
   "execution_count": 166,
   "id": "72afd6cf-5fd3-41c8-9175-bae764384a84",
   "metadata": {},
   "outputs": [
    {
     "data": {
      "text/plain": [
       "go      220\n",
       "valu    178\n",
       "thi     165\n",
       "name    132\n",
       "func    123\n",
       "dtype: int64"
      ]
     },
     "execution_count": 166,
     "metadata": {},
     "output_type": "execute_result"
    }
   ],
   "source": [
    "go_freq.head()"
   ]
  },
  {
   "cell_type": "code",
   "execution_count": 167,
   "id": "53c1fb2f-e004-45a9-a93f-1e53ab70dc67",
   "metadata": {},
   "outputs": [
    {
     "data": {
      "text/plain": [
       "a       1387\n",
       "li      1134\n",
       "ul       298\n",
       "thi      280\n",
       "file     180\n",
       "dtype: int64"
      ]
     },
     "execution_count": 167,
     "metadata": {},
     "output_type": "execute_result"
    }
   ],
   "source": [
    "ot_freq.head()"
   ]
  },
  {
   "cell_type": "code",
   "execution_count": 168,
   "id": "bf264333-5c8a-4410-8c33-52369d1436bc",
   "metadata": {},
   "outputs": [
    {
     "data": {
      "text/html": [
       "<div>\n",
       "<style scoped>\n",
       "    .dataframe tbody tr th:only-of-type {\n",
       "        vertical-align: middle;\n",
       "    }\n",
       "\n",
       "    .dataframe tbody tr th {\n",
       "        vertical-align: top;\n",
       "    }\n",
       "\n",
       "    .dataframe thead th {\n",
       "        text-align: right;\n",
       "    }\n",
       "</style>\n",
       "<table border=\"1\" class=\"dataframe\">\n",
       "  <thead>\n",
       "    <tr style=\"text-align: right;\">\n",
       "      <th></th>\n",
       "      <th>js</th>\n",
       "      <th>py</th>\n",
       "      <th>go</th>\n",
       "      <th>ot</th>\n",
       "      <th>all</th>\n",
       "    </tr>\n",
       "  </thead>\n",
       "  <tbody>\n",
       "    <tr>\n",
       "      <th>javascript</th>\n",
       "      <td>1189</td>\n",
       "      <td>43</td>\n",
       "      <td>25</td>\n",
       "      <td>14</td>\n",
       "      <td>1271</td>\n",
       "    </tr>\n",
       "    <tr>\n",
       "      <th>sourc</th>\n",
       "      <td>1125</td>\n",
       "      <td>79</td>\n",
       "      <td>14</td>\n",
       "      <td>93</td>\n",
       "      <td>1311</td>\n",
       "    </tr>\n",
       "    <tr>\n",
       "      <th>thi</th>\n",
       "      <td>867</td>\n",
       "      <td>461</td>\n",
       "      <td>165</td>\n",
       "      <td>280</td>\n",
       "      <td>1773</td>\n",
       "    </tr>\n",
       "    <tr>\n",
       "      <th>a</th>\n",
       "      <td>797</td>\n",
       "      <td>85</td>\n",
       "      <td>28</td>\n",
       "      <td>1387</td>\n",
       "      <td>2297</td>\n",
       "    </tr>\n",
       "    <tr>\n",
       "      <th>react</th>\n",
       "      <td>731</td>\n",
       "      <td>2</td>\n",
       "      <td>0</td>\n",
       "      <td>2</td>\n",
       "      <td>735</td>\n",
       "    </tr>\n",
       "    <tr>\n",
       "      <th>...</th>\n",
       "      <td>...</td>\n",
       "      <td>...</td>\n",
       "      <td>...</td>\n",
       "      <td>...</td>\n",
       "      <td>...</td>\n",
       "    </tr>\n",
       "    <tr>\n",
       "      <th>satur</th>\n",
       "      <td>0</td>\n",
       "      <td>0</td>\n",
       "      <td>0</td>\n",
       "      <td>1</td>\n",
       "      <td>1</td>\n",
       "    </tr>\n",
       "    <tr>\n",
       "      <th>avg</th>\n",
       "      <td>0</td>\n",
       "      <td>0</td>\n",
       "      <td>0</td>\n",
       "      <td>1</td>\n",
       "      <td>1</td>\n",
       "    </tr>\n",
       "    <tr>\n",
       "      <th>caffemodel</th>\n",
       "      <td>0</td>\n",
       "      <td>0</td>\n",
       "      <td>0</td>\n",
       "      <td>1</td>\n",
       "      <td>1</td>\n",
       "    </tr>\n",
       "    <tr>\n",
       "      <th>deploytxt</th>\n",
       "      <td>0</td>\n",
       "      <td>0</td>\n",
       "      <td>0</td>\n",
       "      <td>1</td>\n",
       "      <td>1</td>\n",
       "    </tr>\n",
       "    <tr>\n",
       "      <th>factors</th>\n",
       "      <td>0</td>\n",
       "      <td>0</td>\n",
       "      <td>0</td>\n",
       "      <td>1</td>\n",
       "      <td>1</td>\n",
       "    </tr>\n",
       "  </tbody>\n",
       "</table>\n",
       "<p>51925 rows × 5 columns</p>\n",
       "</div>"
      ],
      "text/plain": [
       "              js   py   go    ot   all\n",
       "javascript  1189   43   25    14  1271\n",
       "sourc       1125   79   14    93  1311\n",
       "thi          867  461  165   280  1773\n",
       "a            797   85   28  1387  2297\n",
       "react        731    2    0     2   735\n",
       "...          ...  ...  ...   ...   ...\n",
       "satur          0    0    0     1     1\n",
       "avg            0    0    0     1     1\n",
       "caffemodel     0    0    0     1     1\n",
       "deploytxt      0    0    0     1     1\n",
       "factors        0    0    0     1     1\n",
       "\n",
       "[51925 rows x 5 columns]"
      ]
     },
     "execution_count": 168,
     "metadata": {},
     "output_type": "execute_result"
    }
   ],
   "source": [
    "word_counts = pd.concat([js_freq, py_freq, go_freq, ot_freq, all_freq], axis=1).fillna(0).astype(int)\n",
    "word_counts.columns = ['js', 'py', 'go', 'ot', 'all']\n",
    "word_counts"
   ]
  },
  {
   "cell_type": "code",
   "execution_count": 169,
   "id": "3243d873-31f3-4517-b0ac-e177b71ed835",
   "metadata": {},
   "outputs": [],
   "source": [
    "import matplotlib.pyplot as plt"
   ]
  },
  {
   "cell_type": "code",
   "execution_count": 170,
   "id": "160fccad-0ce0-4dd0-8012-9f8d2aa37050",
   "metadata": {},
   "outputs": [
    {
     "data": {
      "text/plain": [
       "Text(0.5, 1.0, '% of lang for the most common 20 words')"
      ]
     },
     "execution_count": 170,
     "metadata": {},
     "output_type": "execute_result"
    },
    {
     "data": {
      "text/plain": [
       "<Figure size 1152x648 with 0 Axes>"
      ]
     },
     "metadata": {},
     "output_type": "display_data"
    },
    {
     "data": {
      "image/png": "[encoded data removed]",
      "text/plain": [
       "<Figure size 432x288 with 1 Axes>"
      ]
     },
     "metadata": {
      "needs_background": "light"
     },
     "output_type": "display_data"
    }
   ],
   "source": [
    "plt.figure(figsize=(16, 9))\n",
    "plt.rc('font', size=16)\n",
    "\n",
    "(word_counts.sort_values('all', ascending=False)\n",
    " .head(20)\n",
    " .apply(lambda row: row/row['all'], axis = 1)\n",
    " .drop(columns = 'all')\n",
    " .sort_values(by = 'js')\n",
    " .plot.barh(stacked = True, width = 1, ec = 'k')\n",
    ")\n",
    "plt.title('% of lang for the most common 20 words')"
   ]
  },
  {
   "cell_type": "code",
   "execution_count": 158,
   "id": "a62a732b-56e9-4c4b-9391-6a52c40cbdbe",
   "metadata": {},
   "outputs": [],
   "source": [
    "from sklearn.feature_extraction.text import CountVectorizer\n",
    "from sklearn.feature_extraction.text import TfidfVectorizer\n",
    "from sklearn.model_selection import train_test_split\n",
    "from sklearn.tree import DecisionTreeClassifier"
   ]
  },
  {
   "cell_type": "code",
   "execution_count": 172,
   "id": "b6e8b43b-e08e-450c-9046-0cb44f7ce77e",
   "metadata": {},
   "outputs": [
    {
     "data": {
      "text/plain": [
       "((147,), (49,), (50,))"
      ]
     },
     "execution_count": 172,
     "metadata": {},
     "output_type": "execute_result"
    }
   ],
   "source": [
    "X = df_clean.readme_contents_clean\n",
    "y = df_clean.language\n",
    "\n",
    "X_train, X_test, y_train, y_test = train_test_split(X,\n",
    "                                                   y,\n",
    "                                                   test_size=0.2,\n",
    "                                                   random_state=123)\n",
    "X_train, X_val, y_train, y_val = train_test_split(X_train,\n",
    "                                                 y_train,\n",
    "                                                 test_size=.25,\n",
    "                                                 random_state=123)\n",
    "X_train.shape, X_val.shape, X_test.shape"
   ]
  },
  {
   "cell_type": "code",
   "execution_count": 184,
   "id": "4f0cd209-80e4-48c4-9265-9ca7db9967a1",
   "metadata": {},
   "outputs": [
    {
     "data": {
      "text/plain": [
       "0.9795918367346939"
      ]
     },
     "execution_count": 184,
     "metadata": {},
     "output_type": "execute_result"
    }
   ],
   "source": [
    "cv = CountVectorizer()\n",
    "train_bow = cv.fit_transform(X_train)\n",
    "tree = DecisionTreeClassifier(max_depth=10)\n",
    "tree.fit(train_bow, y_train)\n",
    "tree.score(train_bow, y_train)"
   ]
  },
  {
   "cell_type": "code",
   "execution_count": 185,
   "id": "7800464d-d6bc-49b6-b9fa-20a65652c1b1",
   "metadata": {},
   "outputs": [
    {
     "data": {
      "text/plain": [
       "0.673469387755102"
      ]
     },
     "execution_count": 185,
     "metadata": {},
     "output_type": "execute_result"
    }
   ],
   "source": [
    "val_bow = cv.transform(X_val)\n",
    "tree.score(val_bow, y_val)"
   ]
  },
  {
   "cell_type": "code",
   "execution_count": 186,
   "id": "f384e824-6175-4fb8-9108-d853d2356042",
   "metadata": {},
   "outputs": [
    {
     "data": {
      "text/plain": [
       "0.9931972789115646"
      ]
     },
     "execution_count": 186,
     "metadata": {},
     "output_type": "execute_result"
    }
   ],
   "source": [
    "tv = TfidfVectorizer()\n",
    "train_bow = tv.fit_transform(X_train)\n",
    "tree = DecisionTreeClassifier(max_depth=10)\n",
    "tree.fit(train_bow, y_train)\n",
    "tree.score(train_bow, y_train)"
   ]
  },
  {
   "cell_type": "code",
   "execution_count": 187,
   "id": "494272e0-cc03-4bbe-b906-faf63c8b7485",
   "metadata": {},
   "outputs": [
    {
     "data": {
      "text/plain": [
       "0.7142857142857143"
      ]
     },
     "execution_count": 187,
     "metadata": {},
     "output_type": "execute_result"
    }
   ],
   "source": [
    "val_bow = tv.transform(X_val)\n",
    "tree.score(val_bow, y_val)"
   ]
  },
  {
   "cell_type": "code",
   "execution_count": 189,
   "id": "0d5c08c6-79de-4234-99be-0964074a3cf9",
   "metadata": {},
   "outputs": [],
   "source": [
    "from sklearn.naive_bayes import MultinomialNB"
   ]
  },
  {
   "cell_type": "code",
   "execution_count": 223,
   "id": "00f8a2dd-7879-4852-af4f-13391e817cd2",
   "metadata": {},
   "outputs": [
    {
     "data": {
      "text/plain": [
       "(0.9319727891156463, 0.5102040816326531)"
      ]
     },
     "execution_count": 223,
     "metadata": {},
     "output_type": "execute_result"
    }
   ],
   "source": [
    "tv = TfidfVectorizer(ngram_range=(2, 3))\n",
    "train_bow = tv.fit_transform(X_train)\n",
    "val_bow = tv.transform(X_val)\n",
    "\n",
    "# cv = CountVectorizer(ngram_range=(2, 3))\n",
    "# train_bow = cv.fit_transform(X_train)\n",
    "# val_bow = cv.transform(X_val)\n",
    "\n",
    "nb = MultinomialNB(alpha=1)\n",
    "nb.fit(train_bow, y_train)\n",
    "nb.score(train_bow, y_train), nb.score(val_bow, y_val)"
   ]
  },
  {
   "cell_type": "code",
   "execution_count": null,
   "id": "0faa6fce-5f00-4010-bf16-e19aff2dab2f",
   "metadata": {},
   "outputs": [],
   "source": []
  }
 ],
 "metadata": {
  "kernelspec": {
   "display_name": "Python 3 (ipykernel)",
   "language": "python",
   "name": "python3"
  },
  "language_info": {
   "codemirror_mode": {
    "name": "ipython",
    "version": 3
   },
   "file_extension": ".py",
   "mimetype": "text/x-python",
   "name": "python",
   "nbconvert_exporter": "python",
   "pygments_lexer": "ipython3",
   "version": "3.9.12"
  }
 },
 "nbformat": 4,
 "nbformat_minor": 5
}
