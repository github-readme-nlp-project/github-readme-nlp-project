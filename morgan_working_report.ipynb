{
 "cells": [
  {
   "cell_type": "code",
   "execution_count": 1,
   "id": "8b732860-91a7-4d21-9a8b-332b1fed149e",
   "metadata": {},
   "outputs": [],
   "source": [
    "import numpy as np\n",
    "import pandas as pd\n",
    "import requests\n",
    "from bs4 import BeautifulSoup\n",
    "import nltk\n",
    "import re\n",
    "# import acquire\n",
    "# import prepare"
   ]
  },
  {
   "cell_type": "code",
   "execution_count": 7,
   "id": "56668b3c-6cb9-427f-a85b-bed364247224",
   "metadata": {},
   "outputs": [],
   "source": [
    "# import acquire"
   ]
  },
  {
   "cell_type": "code",
   "execution_count": null,
   "id": "9578b953-1424-441d-abd6-7fc35672c619",
   "metadata": {},
   "outputs": [],
   "source": []
  },
  {
   "cell_type": "code",
   "execution_count": 2,
   "id": "263a57fd-f721-4fbd-a9fe-6c59549b92ab",
   "metadata": {},
   "outputs": [],
   "source": [
    "# df = acquire.scrape_github_data()"
   ]
  },
  {
   "cell_type": "code",
   "execution_count": 3,
   "id": "c2f5e46e-06e3-45f0-8bf2-239aed914fd5",
   "metadata": {},
   "outputs": [],
   "source": [
    "# pd.DataFrame(df)"
   ]
  },
  {
   "cell_type": "code",
   "execution_count": null,
   "id": "18808dc8-40e0-4592-9c27-40ffe29d11d3",
   "metadata": {},
   "outputs": [],
   "source": []
  },
  {
   "cell_type": "code",
   "execution_count": null,
   "id": "aad47356-e4a4-4865-9775-ebb7758185bf",
   "metadata": {},
   "outputs": [],
   "source": []
  },
  {
   "cell_type": "code",
   "execution_count": 39,
   "id": "8962f234-f5d7-4aa7-813b-6f869b0fe368",
   "metadata": {},
   "outputs": [],
   "source": [
    "url = 'https://github.com/search?q=stars%3A%3E5&type=Repositories'"
   ]
  },
  {
   "cell_type": "code",
   "execution_count": 40,
   "id": "49750f8e-f698-4431-a2e8-6f38b1ebb983",
   "metadata": {},
   "outputs": [
    {
     "data": {
      "text/plain": [
       "<Response [200]>"
      ]
     },
     "execution_count": 40,
     "metadata": {},
     "output_type": "execute_result"
    }
   ],
   "source": [
    "requests.get(url)"
   ]
  },
  {
   "cell_type": "code",
   "execution_count": 41,
   "id": "4889fc1c-d36d-4bdd-b97f-d0b1114b3f4d",
   "metadata": {},
   "outputs": [],
   "source": [
    "soup = BeautifulSoup(requests.get(url).content, 'html.parser')\n",
    "# soup"
   ]
  },
  {
   "cell_type": "code",
   "execution_count": 46,
   "id": "e6f8f69d-6c56-4366-81e8-e1a0de0216fa",
   "metadata": {},
   "outputs": [
    {
     "data": {
      "text/plain": [
       "'/freeCodeCamp/freeCodeCamp'"
      ]
     },
     "execution_count": 46,
     "metadata": {},
     "output_type": "execute_result"
    }
   ],
   "source": [
    "repos = soup.select('a.v-align-middle')\n",
    "repos[0]['href']"
   ]
  },
  {
   "cell_type": "code",
   "execution_count": 47,
   "id": "04ef32b1-98ab-459d-a8b6-8cf5f0c735d6",
   "metadata": {},
   "outputs": [],
   "source": [
    "names = []\n",
    "for r in repos:\n",
    "    repo_name = r['href']\n",
    "    names.append(repo_name)"
   ]
  },
  {
   "cell_type": "code",
   "execution_count": 48,
   "id": "cd2f94bd-0623-4a56-821e-27ec0e35cc39",
   "metadata": {},
   "outputs": [
    {
     "data": {
      "text/plain": [
       "['/freeCodeCamp/freeCodeCamp',\n",
       " '/996icu/996.ICU',\n",
       " '/EbookFoundation/free-programming-books',\n",
       " '/jwasham/coding-interview-university',\n",
       " '/sindresorhus/awesome',\n",
       " '/kamranahmedse/developer-roadmap',\n",
       " '/public-apis/public-apis',\n",
       " '/vuejs/vue',\n",
       " '/facebook/react',\n",
       " '/tensorflow/tensorflow']"
      ]
     },
     "execution_count": 48,
     "metadata": {},
     "output_type": "execute_result"
    }
   ],
   "source": [
    "names"
   ]
  },
  {
   "cell_type": "code",
   "execution_count": 37,
   "id": "67addf44-736b-4a75-b907-a928a9f35c01",
   "metadata": {},
   "outputs": [
    {
     "data": {
      "text/plain": [
       "25"
      ]
     },
     "execution_count": 37,
     "metadata": {},
     "output_type": "execute_result"
    }
   ],
   "source": [
    "len(names)"
   ]
  },
  {
   "cell_type": "code",
   "execution_count": 8,
   "id": "0b86a8b0-17a6-4753-9bcb-dbacf07be3b6",
   "metadata": {},
   "outputs": [],
   "source": [
    "def get_repo_names():\n",
    "    names = []\n",
    "    url = 'https://github.com/search?q=stars%3A%3E5&type=Repositories'\n",
    "    soup = BeautifulSoup(requests.get(url).content, 'html.parser')\n",
    "    repos = soup.select('a.v-align-middle')\n",
    "    for r in repos:\n",
    "        repo_name = r['href']\n",
    "        names.append(repo_name)\n",
    "    page = 2\n",
    "    while page <= 10:\n",
    "        url = f'https://github.com/search?p={page}&q=stars%3A%3E5&type=Repositories'\n",
    "        soup = BeautifulSoup(requests.get(url).content, 'html.parser')\n",
    "        repos = soup.select('a.v-align-middle')\n",
    "        for r in repos:\n",
    "            repo_name = r['href']\n",
    "            names.append(repo_name)\n",
    "        print('moving to page '+str(page))\n",
    "        page += 1\n",
    "    \n",
    "    return names"
   ]
  },
  {
   "cell_type": "code",
   "execution_count": 9,
   "id": "8960c675-82cf-42f7-9739-c4b46f0ed5f6",
   "metadata": {},
   "outputs": [
    {
     "name": "stdout",
     "output_type": "stream",
     "text": [
      "moving to page 2\n",
      "moving to page 3\n",
      "moving to page 4\n",
      "moving to page 5\n",
      "moving to page 6\n",
      "moving to page 7\n",
      "moving to page 8\n",
      "moving to page 9\n",
      "moving to page 10\n"
     ]
    }
   ],
   "source": [
    "test = get_repo_names()"
   ]
  },
  {
   "cell_type": "code",
   "execution_count": 10,
   "id": "8e714493-4a2a-43ea-b728-9cb2ea67f448",
   "metadata": {},
   "outputs": [
    {
     "data": {
      "text/plain": [
       "['/freeCodeCamp/freeCodeCamp',\n",
       " '/996icu/996.ICU',\n",
       " '/EbookFoundation/free-programming-books',\n",
       " '/jwasham/coding-interview-university',\n",
       " '/sindresorhus/awesome',\n",
       " '/kamranahmedse/developer-roadmap',\n",
       " '/public-apis/public-apis',\n",
       " '/donnemartin/system-design-primer',\n",
       " '/vuejs/vue',\n",
       " '/facebook/react',\n",
       " '/tensorflow/tensorflow',\n",
       " '/codecrafters-io/build-your-own-x',\n",
       " '/getify/You-Dont-Know-JS',\n",
       " '/twbs/bootstrap',\n",
       " '/CyC2018/CS-Notes',\n",
       " '/trekhleb/javascript-algorithms',\n",
       " '/ohmyzsh/ohmyzsh',\n",
       " '/TheAlgorithms/Python',\n",
       " '/vinta/awesome-python',\n",
       " '/torvalds/linux',\n",
       " '/airbnb/javascript',\n",
       " '/jackfrued/Python-100-Days',\n",
       " '/ossu/computer-science',\n",
       " '/ytdl-org/youtube-dl',\n",
       " '/jlevy/the-art-of-command-line',\n",
       " '/labuladong/fucking-algorithm',\n",
       " '/awesome-selfhosted/awesome-selfhosted',\n",
       " '/facebook/react-native',\n",
       " '/golang/go',\n",
       " '/electron/electron',\n",
       " '/awesome-selfhosted/awesome-selfhosted',\n",
       " '/facebook/react-native',\n",
       " '/golang/go',\n",
       " '/electron/electron',\n",
       " '/30-seconds/30-seconds-of-code',\n",
       " '/d3/d3',\n",
       " '/facebook/create-react-app',\n",
       " '/axios/axios',\n",
       " '/justjavac/free-programming-books-zh_CN',\n",
       " '/vercel/next.js',\n",
       " '/kubernetes/kubernetes',\n",
       " '/nodejs/node',\n",
       " '/avelino/awesome-go',\n",
       " '/mrdoob/three.js',\n",
       " '/denoland/deno',\n",
       " '/microsoft/terminal',\n",
       " '/microsoft/TypeScript',\n",
       " '/angular/angular',\n",
       " '/goldbergyoni/nodebestpractices',\n",
       " '/ant-design/ant-design']"
      ]
     },
     "execution_count": 10,
     "metadata": {},
     "output_type": "execute_result"
    }
   ],
   "source": [
    "test"
   ]
  },
  {
   "cell_type": "code",
   "execution_count": 11,
   "id": "3ae7a537-83fd-44f6-be50-6a66c7ab2079",
   "metadata": {},
   "outputs": [],
   "source": [
    "# df = acquire.scrape_github_data()\n",
    "# pd.DataFrame(df)"
   ]
  },
  {
   "cell_type": "code",
   "execution_count": 30,
   "id": "77678a5b-40a1-4c87-b3f1-31403d4e4904",
   "metadata": {},
   "outputs": [],
   "source": [
    "df = pd.read_json('data.json')"
   ]
  },
  {
   "cell_type": "code",
   "execution_count": 31,
   "id": "3a89707b-e0a1-4864-8edb-f4d15594dc62",
   "metadata": {},
   "outputs": [
    {
     "data": {
      "text/plain": [
       "repo                0\n",
       "language           14\n",
       "readme_contents     0\n",
       "dtype: int64"
      ]
     },
     "execution_count": 31,
     "metadata": {},
     "output_type": "execute_result"
    }
   ],
   "source": [
    "df.isnull().sum()"
   ]
  },
  {
   "cell_type": "code",
   "execution_count": 32,
   "id": "bcf3659e-6dcc-40a1-9d83-1aa58183c5b5",
   "metadata": {},
   "outputs": [
    {
     "data": {
      "text/html": [
       "<div>\n",
       "<style scoped>\n",
       "    .dataframe tbody tr th:only-of-type {\n",
       "        vertical-align: middle;\n",
       "    }\n",
       "\n",
       "    .dataframe tbody tr th {\n",
       "        vertical-align: top;\n",
       "    }\n",
       "\n",
       "    .dataframe thead th {\n",
       "        text-align: right;\n",
       "    }\n",
       "</style>\n",
       "<table border=\"1\" class=\"dataframe\">\n",
       "  <thead>\n",
       "    <tr style=\"text-align: right;\">\n",
       "      <th></th>\n",
       "      <th>repo</th>\n",
       "      <th>language</th>\n",
       "      <th>readme_contents</th>\n",
       "    </tr>\n",
       "  </thead>\n",
       "  <tbody>\n",
       "    <tr>\n",
       "      <th>0</th>\n",
       "      <td>/facebook/react</td>\n",
       "      <td>JavaScript</td>\n",
       "      <td># [React](https://reactjs.org/) &amp;middot; [![Gi...</td>\n",
       "    </tr>\n",
       "    <tr>\n",
       "      <th>1</th>\n",
       "      <td>/awesome-selfhosted/awesome-selfhosted</td>\n",
       "      <td>JavaScript</td>\n",
       "      <td># Awesome-Selfhosted\\n\\n[![Awesome](https://cd...</td>\n",
       "    </tr>\n",
       "    <tr>\n",
       "      <th>2</th>\n",
       "      <td>/30-seconds/30-seconds-of-code</td>\n",
       "      <td>JavaScript</td>\n",
       "      <td>[![Logo](/logo.png)](https://30secondsofcode.o...</td>\n",
       "    </tr>\n",
       "    <tr>\n",
       "      <th>3</th>\n",
       "      <td>/facebook/create-react-app</td>\n",
       "      <td>JavaScript</td>\n",
       "      <td># Create React App [![Build Status](https://de...</td>\n",
       "    </tr>\n",
       "    <tr>\n",
       "      <th>4</th>\n",
       "      <td>/vercel/next.js</td>\n",
       "      <td>JavaScript</td>\n",
       "      <td>packages/next/README.md</td>\n",
       "    </tr>\n",
       "  </tbody>\n",
       "</table>\n",
       "</div>"
      ],
      "text/plain": [
       "                                     repo    language  \\\n",
       "0                         /facebook/react  JavaScript   \n",
       "1  /awesome-selfhosted/awesome-selfhosted  JavaScript   \n",
       "2          /30-seconds/30-seconds-of-code  JavaScript   \n",
       "3              /facebook/create-react-app  JavaScript   \n",
       "4                         /vercel/next.js  JavaScript   \n",
       "\n",
       "                                     readme_contents  \n",
       "0  # [React](https://reactjs.org/) &middot; [![Gi...  \n",
       "1  # Awesome-Selfhosted\\n\\n[![Awesome](https://cd...  \n",
       "2  [![Logo](/logo.png)](https://30secondsofcode.o...  \n",
       "3  # Create React App [![Build Status](https://de...  \n",
       "4                            packages/next/README.md  "
      ]
     },
     "execution_count": 32,
     "metadata": {},
     "output_type": "execute_result"
    }
   ],
   "source": [
    "df.head()"
   ]
  },
  {
   "cell_type": "code",
   "execution_count": 33,
   "id": "67892341-570d-4cad-85da-7f1556d72283",
   "metadata": {},
   "outputs": [
    {
     "data": {
      "text/plain": [
       "JavaScript          97\n",
       "Python              97\n",
       "Go                  10\n",
       "Java                 6\n",
       "Swift                5\n",
       "C                    5\n",
       "Objective-C          3\n",
       "C#                   3\n",
       "Lua                  3\n",
       "Kotlin               2\n",
       "TypeScript           2\n",
       "Scala                2\n",
       "Ruby                 2\n",
       "C++                  2\n",
       "Shell                1\n",
       "Assembly             1\n",
       "Jupyter Notebook     1\n",
       "Wren                 1\n",
       "OCaml                1\n",
       "PHP                  1\n",
       "HTML                 1\n",
       "Name: language, dtype: int64"
      ]
     },
     "execution_count": 33,
     "metadata": {},
     "output_type": "execute_result"
    }
   ],
   "source": [
    "df.language.value_counts()"
   ]
  },
  {
   "cell_type": "code",
   "execution_count": null,
   "id": "b17eda1f-1391-43a1-9f86-6ada8e1d5f4b",
   "metadata": {},
   "outputs": [],
   "source": []
  }
 ],
 "metadata": {
  "kernelspec": {
   "display_name": "Python 3 (ipykernel)",
   "language": "python",
   "name": "python3"
  },
  "language_info": {
   "codemirror_mode": {
    "name": "ipython",
    "version": 3
   },
   "file_extension": ".py",
   "mimetype": "text/x-python",
   "name": "python",
   "nbconvert_exporter": "python",
   "pygments_lexer": "ipython3",
   "version": "3.9.12"
  }
 },
 "nbformat": 4,
 "nbformat_minor": 5
}
