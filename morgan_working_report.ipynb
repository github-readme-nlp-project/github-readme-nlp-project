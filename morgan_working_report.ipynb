{
 "cells": [
  {
   "cell_type": "code",
   "execution_count": 2,
   "id": "8b732860-91a7-4d21-9a8b-332b1fed149e",
   "metadata": {},
   "outputs": [],
   "source": [
    "import numpy as np\n",
    "import pandas as pd\n",
    "import requests\n",
    "from bs4 import BeautifulSoup\n",
    "import nltk\n",
    "import re\n",
    "import unicodedata\n",
    "from nltk.corpus import stopwords\n",
    "import prepare"
   ]
  },
  {
   "cell_type": "code",
   "execution_count": 20,
   "id": "50d2e680-2f8f-4acf-9dfa-59025f47b698",
   "metadata": {},
   "outputs": [],
   "source": [
    "c = pd.read_json('c_data.json')\n",
    "js = pd.read_json('js_data.json')\n",
    "jv = pd.read_json('jv_data.json')\n",
    "py = pd.read_json('py_data.json')\n",
    "ru = pd.read_json('ru_data.json')"
   ]
  },
  {
   "cell_type": "code",
   "execution_count": 27,
   "id": "200cc542-ca14-48d3-aa6f-7acd171d4a41",
   "metadata": {},
   "outputs": [],
   "source": [
    "df = pd.concat([c,js,jv,py,ru]).reset_index(drop=True)"
   ]
  },
  {
   "cell_type": "code",
   "execution_count": 29,
   "id": "27813b10-e69b-4bbd-b9bd-27561567a25b",
   "metadata": {},
   "outputs": [],
   "source": [
    "df.to_json('data.json')"
   ]
  },
  {
   "cell_type": "code",
   "execution_count": 31,
   "id": "90336d42-5fd6-4c7b-a3c3-bd2a2ea821c8",
   "metadata": {},
   "outputs": [
    {
     "data": {
      "text/plain": [
       "repo                0\n",
       "language           19\n",
       "readme_contents     0\n",
       "dtype: int64"
      ]
     },
     "execution_count": 31,
     "metadata": {},
     "output_type": "execute_result"
    }
   ],
   "source": [
    "df.isnull().sum()"
   ]
  },
  {
   "cell_type": "code",
   "execution_count": null,
   "id": "2977ab58-53d4-47bc-95a5-fb379b9784ff",
   "metadata": {},
   "outputs": [],
   "source": []
  },
  {
   "cell_type": "code",
   "execution_count": null,
   "id": "b9c6934a-86d0-4a31-ac8b-a1bf23c8b421",
   "metadata": {},
   "outputs": [],
   "source": []
  },
  {
   "cell_type": "code",
   "execution_count": 2,
   "id": "8962f234-f5d7-4aa7-813b-6f869b0fe368",
   "metadata": {},
   "outputs": [],
   "source": [
    "url = 'https://github.com/search?q=stars%3A%3E5&type=Repositories'"
   ]
  },
  {
   "cell_type": "code",
   "execution_count": 3,
   "id": "49750f8e-f698-4431-a2e8-6f38b1ebb983",
   "metadata": {},
   "outputs": [
    {
     "data": {
      "text/plain": [
       "<Response [429]>"
      ]
     },
     "execution_count": 3,
     "metadata": {},
     "output_type": "execute_result"
    }
   ],
   "source": [
    "requests.get(url)"
   ]
  },
  {
   "cell_type": "code",
   "execution_count": 231,
   "id": "4889fc1c-d36d-4bdd-b97f-d0b1114b3f4d",
   "metadata": {},
   "outputs": [],
   "source": [
    "soup = BeautifulSoup(requests.get(url).content, 'html.parser')\n",
    "# soup"
   ]
  },
  {
   "cell_type": "code",
   "execution_count": 232,
   "id": "e6f8f69d-6c56-4366-81e8-e1a0de0216fa",
   "metadata": {},
   "outputs": [
    {
     "ename": "IndexError",
     "evalue": "list index out of range",
     "output_type": "error",
     "traceback": [
      "\u001b[0;31m---------------------------------------------------------------------------\u001b[0m",
      "\u001b[0;31mIndexError\u001b[0m                                Traceback (most recent call last)",
      "Input \u001b[0;32mIn [232]\u001b[0m, in \u001b[0;36m<cell line: 2>\u001b[0;34m()\u001b[0m\n\u001b[1;32m      1\u001b[0m repos \u001b[38;5;241m=\u001b[39m soup\u001b[38;5;241m.\u001b[39mselect(\u001b[38;5;124m'\u001b[39m\u001b[38;5;124ma.v-align-middle\u001b[39m\u001b[38;5;124m'\u001b[39m)\n\u001b[0;32m----> 2\u001b[0m \u001b[43mrepos\u001b[49m\u001b[43m[\u001b[49m\u001b[38;5;241;43m0\u001b[39;49m\u001b[43m]\u001b[49m[\u001b[38;5;124m'\u001b[39m\u001b[38;5;124mhref\u001b[39m\u001b[38;5;124m'\u001b[39m]\n",
      "\u001b[0;31mIndexError\u001b[0m: list index out of range"
     ]
    }
   ],
   "source": [
    "repos = soup.select('a.v-align-middle')\n",
    "repos[0]['href']"
   ]
  },
  {
   "cell_type": "code",
   "execution_count": 47,
   "id": "04ef32b1-98ab-459d-a8b6-8cf5f0c735d6",
   "metadata": {},
   "outputs": [],
   "source": [
    "names = []\n",
    "for r in repos:\n",
    "    repo_name = r['href']\n",
    "    names.append(repo_name)"
   ]
  },
  {
   "cell_type": "code",
   "execution_count": 48,
   "id": "cd2f94bd-0623-4a56-821e-27ec0e35cc39",
   "metadata": {},
   "outputs": [
    {
     "data": {
      "text/plain": [
       "['/freeCodeCamp/freeCodeCamp',\n",
       " '/996icu/996.ICU',\n",
       " '/EbookFoundation/free-programming-books',\n",
       " '/jwasham/coding-interview-university',\n",
       " '/sindresorhus/awesome',\n",
       " '/kamranahmedse/developer-roadmap',\n",
       " '/public-apis/public-apis',\n",
       " '/vuejs/vue',\n",
       " '/facebook/react',\n",
       " '/tensorflow/tensorflow']"
      ]
     },
     "execution_count": 48,
     "metadata": {},
     "output_type": "execute_result"
    }
   ],
   "source": [
    "names"
   ]
  },
  {
   "cell_type": "code",
   "execution_count": 37,
   "id": "67addf44-736b-4a75-b907-a928a9f35c01",
   "metadata": {},
   "outputs": [
    {
     "data": {
      "text/plain": [
       "25"
      ]
     },
     "execution_count": 37,
     "metadata": {},
     "output_type": "execute_result"
    }
   ],
   "source": [
    "len(names)"
   ]
  },
  {
   "cell_type": "code",
   "execution_count": 8,
   "id": "0b86a8b0-17a6-4753-9bcb-dbacf07be3b6",
   "metadata": {},
   "outputs": [],
   "source": [
    "def get_repo_names():\n",
    "    names = []\n",
    "    url = 'https://github.com/search?q=stars%3A%3E5&type=Repositories'\n",
    "    soup = BeautifulSoup(requests.get(url).content, 'html.parser')\n",
    "    repos = soup.select('a.v-align-middle')\n",
    "    for r in repos:\n",
    "        repo_name = r['href']\n",
    "        names.append(repo_name)\n",
    "    page = 2\n",
    "    while page <= 10:\n",
    "        url = f'https://github.com/search?p={page}&q=stars%3A%3E5&type=Repositories'\n",
    "        soup = BeautifulSoup(requests.get(url).content, 'html.parser')\n",
    "        repos = soup.select('a.v-align-middle')\n",
    "        for r in repos:\n",
    "            repo_name = r['href']\n",
    "            names.append(repo_name)\n",
    "        print('moving to page '+str(page))\n",
    "        page += 1\n",
    "    \n",
    "    return names"
   ]
  },
  {
   "cell_type": "code",
   "execution_count": 9,
   "id": "8960c675-82cf-42f7-9739-c4b46f0ed5f6",
   "metadata": {},
   "outputs": [
    {
     "name": "stdout",
     "output_type": "stream",
     "text": [
      "moving to page 2\n",
      "moving to page 3\n",
      "moving to page 4\n",
      "moving to page 5\n",
      "moving to page 6\n",
      "moving to page 7\n",
      "moving to page 8\n",
      "moving to page 9\n",
      "moving to page 10\n"
     ]
    }
   ],
   "source": [
    "test = get_repo_names()"
   ]
  },
  {
   "cell_type": "code",
   "execution_count": 10,
   "id": "8e714493-4a2a-43ea-b728-9cb2ea67f448",
   "metadata": {},
   "outputs": [
    {
     "data": {
      "text/plain": [
       "['/freeCodeCamp/freeCodeCamp',\n",
       " '/996icu/996.ICU',\n",
       " '/EbookFoundation/free-programming-books',\n",
       " '/jwasham/coding-interview-university',\n",
       " '/sindresorhus/awesome',\n",
       " '/kamranahmedse/developer-roadmap',\n",
       " '/public-apis/public-apis',\n",
       " '/donnemartin/system-design-primer',\n",
       " '/vuejs/vue',\n",
       " '/facebook/react',\n",
       " '/tensorflow/tensorflow',\n",
       " '/codecrafters-io/build-your-own-x',\n",
       " '/getify/You-Dont-Know-JS',\n",
       " '/twbs/bootstrap',\n",
       " '/CyC2018/CS-Notes',\n",
       " '/trekhleb/javascript-algorithms',\n",
       " '/ohmyzsh/ohmyzsh',\n",
       " '/TheAlgorithms/Python',\n",
       " '/vinta/awesome-python',\n",
       " '/torvalds/linux',\n",
       " '/airbnb/javascript',\n",
       " '/jackfrued/Python-100-Days',\n",
       " '/ossu/computer-science',\n",
       " '/ytdl-org/youtube-dl',\n",
       " '/jlevy/the-art-of-command-line',\n",
       " '/labuladong/fucking-algorithm',\n",
       " '/awesome-selfhosted/awesome-selfhosted',\n",
       " '/facebook/react-native',\n",
       " '/golang/go',\n",
       " '/electron/electron',\n",
       " '/awesome-selfhosted/awesome-selfhosted',\n",
       " '/facebook/react-native',\n",
       " '/golang/go',\n",
       " '/electron/electron',\n",
       " '/30-seconds/30-seconds-of-code',\n",
       " '/d3/d3',\n",
       " '/facebook/create-react-app',\n",
       " '/axios/axios',\n",
       " '/justjavac/free-programming-books-zh_CN',\n",
       " '/vercel/next.js',\n",
       " '/kubernetes/kubernetes',\n",
       " '/nodejs/node',\n",
       " '/avelino/awesome-go',\n",
       " '/mrdoob/three.js',\n",
       " '/denoland/deno',\n",
       " '/microsoft/terminal',\n",
       " '/microsoft/TypeScript',\n",
       " '/angular/angular',\n",
       " '/goldbergyoni/nodebestpractices',\n",
       " '/ant-design/ant-design']"
      ]
     },
     "execution_count": 10,
     "metadata": {},
     "output_type": "execute_result"
    }
   ],
   "source": [
    "test"
   ]
  },
  {
   "cell_type": "code",
   "execution_count": 11,
   "id": "3ae7a537-83fd-44f6-be50-6a66c7ab2079",
   "metadata": {},
   "outputs": [],
   "source": [
    "# df = acquire.scrape_github_data()\n",
    "# pd.DataFrame(df)"
   ]
  },
  {
   "cell_type": "code",
   "execution_count": 3,
   "id": "77678a5b-40a1-4c87-b3f1-31403d4e4904",
   "metadata": {},
   "outputs": [],
   "source": [
    "df = pd.read_json('data.json')"
   ]
  },
  {
   "cell_type": "code",
   "execution_count": 4,
   "id": "3a89707b-e0a1-4864-8edb-f4d15594dc62",
   "metadata": {},
   "outputs": [
    {
     "data": {
      "text/plain": [
       "repo                0\n",
       "language           19\n",
       "readme_contents     0\n",
       "dtype: int64"
      ]
     },
     "execution_count": 4,
     "metadata": {},
     "output_type": "execute_result"
    }
   ],
   "source": [
    "df.isnull().sum()"
   ]
  },
  {
   "cell_type": "code",
   "execution_count": 5,
   "id": "bcf3659e-6dcc-40a1-9d83-1aa58183c5b5",
   "metadata": {},
   "outputs": [
    {
     "data": {
      "text/html": [
       "<div>\n",
       "<style scoped>\n",
       "    .dataframe tbody tr th:only-of-type {\n",
       "        vertical-align: middle;\n",
       "    }\n",
       "\n",
       "    .dataframe tbody tr th {\n",
       "        vertical-align: top;\n",
       "    }\n",
       "\n",
       "    .dataframe thead th {\n",
       "        text-align: right;\n",
       "    }\n",
       "</style>\n",
       "<table border=\"1\" class=\"dataframe\">\n",
       "  <thead>\n",
       "    <tr style=\"text-align: right;\">\n",
       "      <th></th>\n",
       "      <th>repo</th>\n",
       "      <th>language</th>\n",
       "      <th>readme_contents</th>\n",
       "    </tr>\n",
       "  </thead>\n",
       "  <tbody>\n",
       "    <tr>\n",
       "      <th>4</th>\n",
       "      <td>/LingCoder/OnJava8</td>\n",
       "      <td>None</td>\n",
       "      <td># 《On Java 8》中文版\\n\\n## 最新动态\\n\\n《ON JAVA 中文版》终于...</td>\n",
       "    </tr>\n",
       "    <tr>\n",
       "      <th>11</th>\n",
       "      <td>/thedaviddias/Front-End-Checklist</td>\n",
       "      <td>None</td>\n",
       "      <td>&lt;h1 align=\"center\"&gt;\\n&lt;br&gt;\\n  &lt;img src=\"https:/...</td>\n",
       "    </tr>\n",
       "    <tr>\n",
       "      <th>31</th>\n",
       "      <td>/MunGell/awesome-for-beginners</td>\n",
       "      <td>None</td>\n",
       "      <td># Awesome First PR Opportunities [![Awesome](h...</td>\n",
       "    </tr>\n",
       "    <tr>\n",
       "      <th>35</th>\n",
       "      <td>/prakhar1989/awesome-courses</td>\n",
       "      <td>None</td>\n",
       "      <td># Awesome CS Courses [![Awesome](https://cdn.r...</td>\n",
       "    </tr>\n",
       "    <tr>\n",
       "      <th>46</th>\n",
       "      <td>/wsargent/docker-cheat-sheet</td>\n",
       "      <td>None</td>\n",
       "      <td># Docker Cheat Sheet\\n\\n**Want to improve this...</td>\n",
       "    </tr>\n",
       "    <tr>\n",
       "      <th>65</th>\n",
       "      <td>/xitu/gold-miner</td>\n",
       "      <td>None</td>\n",
       "      <td># 掘金翻译计划\\n\\n[![xitu](https://camo.githubuserco...</td>\n",
       "    </tr>\n",
       "    <tr>\n",
       "      <th>92</th>\n",
       "      <td>/ziadoz/awesome-php</td>\n",
       "      <td>None</td>\n",
       "      <td># Awesome PHP ![](https://github.com/ziadoz/aw...</td>\n",
       "    </tr>\n",
       "    <tr>\n",
       "      <th>93</th>\n",
       "      <td>/Homebrew/legacy-homebrew</td>\n",
       "      <td>None</td>\n",
       "      <td># Homebrew (Legacy)\\n\\nThis repository was dep...</td>\n",
       "    </tr>\n",
       "    <tr>\n",
       "      <th>114</th>\n",
       "      <td>/google/material-design-icons</td>\n",
       "      <td>None</td>\n",
       "      <td>## Material Icons / Material Symbols\\n\\nThese ...</td>\n",
       "    </tr>\n",
       "    <tr>\n",
       "      <th>116</th>\n",
       "      <td>/Developer-Y/cs-video-courses</td>\n",
       "      <td>None</td>\n",
       "      <td># Computer Science courses with video lectures...</td>\n",
       "    </tr>\n",
       "    <tr>\n",
       "      <th>125</th>\n",
       "      <td>/ziishaned/learn-regex</td>\n",
       "      <td>None</td>\n",
       "      <td>&lt;p align=\"center\"&gt;\\n    &lt;br/&gt;\\n    &lt;a href=\"ht...</td>\n",
       "    </tr>\n",
       "    <tr>\n",
       "      <th>133</th>\n",
       "      <td>/ziishaned/learn-regex</td>\n",
       "      <td>None</td>\n",
       "      <td>&lt;p align=\"center\"&gt;\\n    &lt;br/&gt;\\n    &lt;a href=\"ht...</td>\n",
       "    </tr>\n",
       "    <tr>\n",
       "      <th>145</th>\n",
       "      <td>/k88hudson/git-flight-rules</td>\n",
       "      <td>None</td>\n",
       "      <td># Flight rules for Git\\n\\n🌍\\n*[English](README...</td>\n",
       "    </tr>\n",
       "    <tr>\n",
       "      <th>147</th>\n",
       "      <td>/justjavac/awesome-wechat-weapp</td>\n",
       "      <td>None</td>\n",
       "      <td>&lt;h1 align=\"center\"&gt;微信小程序开发资源汇总&lt;/h1&gt;\\n\\n本文收集了微信...</td>\n",
       "    </tr>\n",
       "    <tr>\n",
       "      <th>151</th>\n",
       "      <td>/ngosang/trackerslist</td>\n",
       "      <td>None</td>\n",
       "      <td># ngosang/trackerslist\\n\\n[![Last update](http...</td>\n",
       "    </tr>\n",
       "    <tr>\n",
       "      <th>157</th>\n",
       "      <td>/dypsilon/frontend-dev-bookmarks</td>\n",
       "      <td>None</td>\n",
       "      <td># Frontend Development [![Awesome](https://cdn...</td>\n",
       "    </tr>\n",
       "    <tr>\n",
       "      <th>159</th>\n",
       "      <td>/alex/what-happens-when</td>\n",
       "      <td>None</td>\n",
       "      <td>What happens when...\\n====================\\n\\n...</td>\n",
       "    </tr>\n",
       "    <tr>\n",
       "      <th>165</th>\n",
       "      <td>/justjavac/awesome-wechat-weapp</td>\n",
       "      <td>None</td>\n",
       "      <td>&lt;h1 align=\"center\"&gt;微信小程序开发资源汇总&lt;/h1&gt;\\n\\n本文收集了微信...</td>\n",
       "    </tr>\n",
       "    <tr>\n",
       "      <th>194</th>\n",
       "      <td>/ngosang/trackerslist</td>\n",
       "      <td>None</td>\n",
       "      <td># ngosang/trackerslist\\n\\n[![Last update](http...</td>\n",
       "    </tr>\n",
       "  </tbody>\n",
       "</table>\n",
       "</div>"
      ],
      "text/plain": [
       "                                  repo language  \\\n",
       "4                   /LingCoder/OnJava8     None   \n",
       "11   /thedaviddias/Front-End-Checklist     None   \n",
       "31      /MunGell/awesome-for-beginners     None   \n",
       "35        /prakhar1989/awesome-courses     None   \n",
       "46        /wsargent/docker-cheat-sheet     None   \n",
       "65                    /xitu/gold-miner     None   \n",
       "92                 /ziadoz/awesome-php     None   \n",
       "93           /Homebrew/legacy-homebrew     None   \n",
       "114      /google/material-design-icons     None   \n",
       "116      /Developer-Y/cs-video-courses     None   \n",
       "125             /ziishaned/learn-regex     None   \n",
       "133             /ziishaned/learn-regex     None   \n",
       "145        /k88hudson/git-flight-rules     None   \n",
       "147    /justjavac/awesome-wechat-weapp     None   \n",
       "151              /ngosang/trackerslist     None   \n",
       "157   /dypsilon/frontend-dev-bookmarks     None   \n",
       "159            /alex/what-happens-when     None   \n",
       "165    /justjavac/awesome-wechat-weapp     None   \n",
       "194              /ngosang/trackerslist     None   \n",
       "\n",
       "                                       readme_contents  \n",
       "4    # 《On Java 8》中文版\\n\\n## 最新动态\\n\\n《ON JAVA 中文版》终于...  \n",
       "11   <h1 align=\"center\">\\n<br>\\n  <img src=\"https:/...  \n",
       "31   # Awesome First PR Opportunities [![Awesome](h...  \n",
       "35   # Awesome CS Courses [![Awesome](https://cdn.r...  \n",
       "46   # Docker Cheat Sheet\\n\\n**Want to improve this...  \n",
       "65   # 掘金翻译计划\\n\\n[![xitu](https://camo.githubuserco...  \n",
       "92   # Awesome PHP ![](https://github.com/ziadoz/aw...  \n",
       "93   # Homebrew (Legacy)\\n\\nThis repository was dep...  \n",
       "114  ## Material Icons / Material Symbols\\n\\nThese ...  \n",
       "116  # Computer Science courses with video lectures...  \n",
       "125  <p align=\"center\">\\n    <br/>\\n    <a href=\"ht...  \n",
       "133  <p align=\"center\">\\n    <br/>\\n    <a href=\"ht...  \n",
       "145  # Flight rules for Git\\n\\n🌍\\n*[English](README...  \n",
       "147  <h1 align=\"center\">微信小程序开发资源汇总</h1>\\n\\n本文收集了微信...  \n",
       "151  # ngosang/trackerslist\\n\\n[![Last update](http...  \n",
       "157  # Frontend Development [![Awesome](https://cdn...  \n",
       "159  What happens when...\\n====================\\n\\n...  \n",
       "165  <h1 align=\"center\">微信小程序开发资源汇总</h1>\\n\\n本文收集了微信...  \n",
       "194  # ngosang/trackerslist\\n\\n[![Last update](http...  "
      ]
     },
     "execution_count": 5,
     "metadata": {},
     "output_type": "execute_result"
    }
   ],
   "source": [
    "df[df.language.isnull()]"
   ]
  },
  {
   "cell_type": "code",
   "execution_count": 6,
   "id": "a208e2a8-ac1f-4b43-af62-91f6fe0526d0",
   "metadata": {},
   "outputs": [],
   "source": [
    "df_clean = prepare.clean_df(df,\n",
    "                    ['readme_contents'],\n",
    "                    'stemming',\n",
    "                    extra_words=['\\'', 'td', '&#9', 'a', 'br', '&#9;', 'use'])"
   ]
  },
  {
   "cell_type": "code",
   "execution_count": 7,
   "id": "927b9e36-e39e-418b-b05e-c6a4a3441a6c",
   "metadata": {},
   "outputs": [],
   "source": [
    "# df = df.dropna()"
   ]
  },
  {
   "cell_type": "code",
   "execution_count": 8,
   "id": "1f7c30d0-48a7-49c0-9dc7-16f341871d3d",
   "metadata": {},
   "outputs": [
    {
     "data": {
      "text/plain": [
       "repo                     0\n",
       "language                 0\n",
       "readme_contents          0\n",
       "readme_contents_clean    0\n",
       "rm_length                0\n",
       "sentiment                0\n",
       "dtype: int64"
      ]
     },
     "execution_count": 8,
     "metadata": {},
     "output_type": "execute_result"
    }
   ],
   "source": [
    "df_clean.isnull().sum()"
   ]
  },
  {
   "cell_type": "code",
   "execution_count": 9,
   "id": "67892341-570d-4cad-85da-7f1556d72283",
   "metadata": {},
   "outputs": [
    {
     "data": {
      "text/plain": [
       "JavaScript    249\n",
       "Python        227\n",
       "Java          214\n",
       "Ruby          204\n",
       "Other          87\n",
       "Name: language, dtype: int64"
      ]
     },
     "execution_count": 9,
     "metadata": {},
     "output_type": "execute_result"
    }
   ],
   "source": [
    "df_clean.language.value_counts()"
   ]
  },
  {
   "cell_type": "code",
   "execution_count": 10,
   "id": "904a7473-464a-48eb-8ae9-3f70cfba6a6d",
   "metadata": {},
   "outputs": [
    {
     "data": {
      "text/plain": [
       "(981, 6)"
      ]
     },
     "execution_count": 10,
     "metadata": {},
     "output_type": "execute_result"
    }
   ],
   "source": [
    "df_clean.shape"
   ]
  },
  {
   "cell_type": "code",
   "execution_count": 15,
   "id": "d6a6524b-c32a-4a58-ae62-fadb27a5ef26",
   "metadata": {},
   "outputs": [],
   "source": [
    "# def create_other(df):\n",
    "#     copy = df.language.copy()\n",
    "#     output = []\n",
    "#     for lang in copy:\n",
    "#         if (lang != 'JavaScript') & (lang != 'Python') & (lang != 'Go'):\n",
    "#             output.append('Other')\n",
    "#         else:\n",
    "#             output.append(lang)\n",
    "#     return output"
   ]
  },
  {
   "cell_type": "code",
   "execution_count": 16,
   "id": "b17eda1f-1391-43a1-9f86-6ada8e1d5f4b",
   "metadata": {},
   "outputs": [],
   "source": [
    "# # potentially for project use\n",
    "# def clean_df(df, cols_to_clean, method='lemmatize', extra_words=[], exclude_words=[]):\n",
    "#     d = df.copy()\n",
    "#     for col in cols_to_clean:\n",
    "#         d[col+'_clean'] = clean_data(d[col], method, extra_words, exclude_words)\n",
    "#     return d\n",
    "\n",
    "# def clean_data(col, method='lemmatize', extra_words=[], exclude_words=[]):\n",
    "#     bc = [basic_clean(entry) for entry in col]   \n",
    "#     t = [tokenize(entry) for entry in bc]\n",
    "#     if method == 'lemmatize':\n",
    "#         l = [lemmatize(entry) for entry in t]\n",
    "#         return [remove_stopwords(entry, extra_words, exclude_words) for entry in l]\n",
    "#     if method == 'stemming':\n",
    "#         s = [stem(entry) for entry in t]\n",
    "#         return [remove_stopwords(entry, extra_words, exclude_words) for entry in s]\n",
    "\n",
    "\n",
    "# # backgroud functions used inside of above functions\n",
    "# def basic_clean(text):\n",
    "#     temp = text.lower()\n",
    "#     temp = unicodedata.normalize('NFKD', temp).encode('ascii', 'ignore').decode('utf-8', 'ignore')\n",
    "#     temp = re.sub(r'[^a-zA-Z0-9\\'\\s]', '', temp)\n",
    "#     return temp\n",
    "\n",
    "# def tokenize(text):\n",
    "#     token = nltk.tokenize.ToktokTokenizer()\n",
    "#     temp = token.tokenize(text, return_str=True)\n",
    "#     return temp\n",
    "\n",
    "# def stem(text):\n",
    "#     ps = nltk.porter.PorterStemmer()\n",
    "#     stems = [ps.stem(word) for word in text.split(' ')]\n",
    "#     stemmed = ' '.join(stems)\n",
    "#     return stemmed\n",
    "\n",
    "# def lemmatize(text):\n",
    "#     wnl = nltk.stem.WordNetLemmatizer()\n",
    "#     lemons = [wnl.lemmatize(word) for word in text.split(' ')]\n",
    "#     lemmatized = ' '.join(lemons)\n",
    "#     return lemmatized\n",
    "\n",
    "# def remove_stopwords(text, extra_words=[], exclude_words=[]):\n",
    "#     words = text.split(' ')\n",
    "#     stopwords_list = stopwords.words('english')\n",
    "#     if len(extra_words) > 0:\n",
    "#         stopwords_list.extend(extra_words)\n",
    "#     if len(exclude_words) > 0:\n",
    "#         [stopwords_list.remove(w) for w in exclude_words]\n",
    "#     filtered_words = [word for word in words if word not in stopwords_list]\n",
    "#     return ' '.join(filtered_words)"
   ]
  },
  {
   "cell_type": "code",
   "execution_count": 17,
   "id": "4d3c196f-9e2b-43a2-978f-7bd6003eec3d",
   "metadata": {},
   "outputs": [
    {
     "data": {
      "text/html": [
       "<div>\n",
       "<style scoped>\n",
       "    .dataframe tbody tr th:only-of-type {\n",
       "        vertical-align: middle;\n",
       "    }\n",
       "\n",
       "    .dataframe tbody tr th {\n",
       "        vertical-align: top;\n",
       "    }\n",
       "\n",
       "    .dataframe thead th {\n",
       "        text-align: right;\n",
       "    }\n",
       "</style>\n",
       "<table border=\"1\" class=\"dataframe\">\n",
       "  <thead>\n",
       "    <tr style=\"text-align: right;\">\n",
       "      <th></th>\n",
       "      <th>repo</th>\n",
       "      <th>language</th>\n",
       "      <th>readme_contents</th>\n",
       "      <th>readme_contents_clean</th>\n",
       "    </tr>\n",
       "  </thead>\n",
       "  <tbody>\n",
       "    <tr>\n",
       "      <th>0</th>\n",
       "      <td>/facebook/react</td>\n",
       "      <td>JavaScript</td>\n",
       "      <td># [React](https://reactjs.org/) &amp;middot; [![Gi...</td>\n",
       "      <td>reacthttpsreactjsorg middot github licensehttp...</td>\n",
       "    </tr>\n",
       "    <tr>\n",
       "      <th>1</th>\n",
       "      <td>/awesome-selfhosted/awesome-selfhosted</td>\n",
       "      <td>JavaScript</td>\n",
       "      <td># Awesome-Selfhosted\\n\\n[![Awesome](https://cd...</td>\n",
       "      <td>awesomeselfhosted\\n\\nawesomehttpscdnjsdelivrne...</td>\n",
       "    </tr>\n",
       "    <tr>\n",
       "      <th>2</th>\n",
       "      <td>/30-seconds/30-seconds-of-code</td>\n",
       "      <td>JavaScript</td>\n",
       "      <td>[![Logo](/logo.png)](https://30secondsofcode.o...</td>\n",
       "      <td>logologopnghttps30secondsofcodeorgjsp1\\n\\n 30 ...</td>\n",
       "    </tr>\n",
       "    <tr>\n",
       "      <th>3</th>\n",
       "      <td>/facebook/create-react-app</td>\n",
       "      <td>JavaScript</td>\n",
       "      <td># Create React App [![Build Status](https://de...</td>\n",
       "      <td>creat react app build statushttpsdevazurecomfa...</td>\n",
       "    </tr>\n",
       "    <tr>\n",
       "      <th>4</th>\n",
       "      <td>/vercel/next.js</td>\n",
       "      <td>JavaScript</td>\n",
       "      <td>packages/next/README.md</td>\n",
       "      <td>packagesnextreadmemd</td>\n",
       "    </tr>\n",
       "    <tr>\n",
       "      <th>...</th>\n",
       "      <td>...</td>\n",
       "      <td>...</td>\n",
       "      <td>...</td>\n",
       "      <td>...</td>\n",
       "    </tr>\n",
       "    <tr>\n",
       "      <th>252</th>\n",
       "      <td>/JohnCoates/Aerial</td>\n",
       "      <td>Other</td>\n",
       "      <td>&lt;p align=\"center\"&gt;\\n  &lt;img src=\"https://cloud....</td>\n",
       "      <td>p aligncenter\\n img srchttpscloudgithubusercon...</td>\n",
       "    </tr>\n",
       "    <tr>\n",
       "      <th>253</th>\n",
       "      <td>/OpenZeppelin/openzeppelin-contracts</td>\n",
       "      <td>JavaScript</td>\n",
       "      <td># &lt;img src=\"logo.svg\" alt=\"OpenZeppelin\" heigh...</td>\n",
       "      <td>img srclogosvg altopenzeppelin height40px\\n\\nd...</td>\n",
       "    </tr>\n",
       "    <tr>\n",
       "      <th>256</th>\n",
       "      <td>/petkaantonov/bluebird</td>\n",
       "      <td>JavaScript</td>\n",
       "      <td>&lt;a href=\"http://promisesaplus.com/\"&gt;\\n    &lt;img...</td>\n",
       "      <td>hrefhttppromisesapluscom\\n img srchttppromises...</td>\n",
       "    </tr>\n",
       "    <tr>\n",
       "      <th>257</th>\n",
       "      <td>/yichengchen/clashX</td>\n",
       "      <td>Other</td>\n",
       "      <td>&lt;h1 align=\"center\"&gt;\\n  &lt;img src=\"https://githu...</td>\n",
       "      <td>h1 aligncenter\\n img srchttpsgithubcomdreamacr...</td>\n",
       "    </tr>\n",
       "    <tr>\n",
       "      <th>259</th>\n",
       "      <td>/nothings/stb</td>\n",
       "      <td>Other</td>\n",
       "      <td>&lt;!---   THIS FILE IS AUTOMATICALLY GENERATED, ...</td>\n",
       "      <td>thi file automat gener chang hand \\n\\nstb\\n\\n\\...</td>\n",
       "    </tr>\n",
       "  </tbody>\n",
       "</table>\n",
       "<p>246 rows × 4 columns</p>\n",
       "</div>"
      ],
      "text/plain": [
       "                                       repo    language  \\\n",
       "0                           /facebook/react  JavaScript   \n",
       "1    /awesome-selfhosted/awesome-selfhosted  JavaScript   \n",
       "2            /30-seconds/30-seconds-of-code  JavaScript   \n",
       "3                /facebook/create-react-app  JavaScript   \n",
       "4                           /vercel/next.js  JavaScript   \n",
       "..                                      ...         ...   \n",
       "252                      /JohnCoates/Aerial       Other   \n",
       "253    /OpenZeppelin/openzeppelin-contracts  JavaScript   \n",
       "256                  /petkaantonov/bluebird  JavaScript   \n",
       "257                     /yichengchen/clashX       Other   \n",
       "259                           /nothings/stb       Other   \n",
       "\n",
       "                                       readme_contents  \\\n",
       "0    # [React](https://reactjs.org/) &middot; [![Gi...   \n",
       "1    # Awesome-Selfhosted\\n\\n[![Awesome](https://cd...   \n",
       "2    [![Logo](/logo.png)](https://30secondsofcode.o...   \n",
       "3    # Create React App [![Build Status](https://de...   \n",
       "4                              packages/next/README.md   \n",
       "..                                                 ...   \n",
       "252  <p align=\"center\">\\n  <img src=\"https://cloud....   \n",
       "253  # <img src=\"logo.svg\" alt=\"OpenZeppelin\" heigh...   \n",
       "256  <a href=\"http://promisesaplus.com/\">\\n    <img...   \n",
       "257  <h1 align=\"center\">\\n  <img src=\"https://githu...   \n",
       "259  <!---   THIS FILE IS AUTOMATICALLY GENERATED, ...   \n",
       "\n",
       "                                 readme_contents_clean  \n",
       "0    reacthttpsreactjsorg middot github licensehttp...  \n",
       "1    awesomeselfhosted\\n\\nawesomehttpscdnjsdelivrne...  \n",
       "2    logologopnghttps30secondsofcodeorgjsp1\\n\\n 30 ...  \n",
       "3    creat react app build statushttpsdevazurecomfa...  \n",
       "4                                 packagesnextreadmemd  \n",
       "..                                                 ...  \n",
       "252  p aligncenter\\n img srchttpscloudgithubusercon...  \n",
       "253  img srclogosvg altopenzeppelin height40px\\n\\nd...  \n",
       "256  hrefhttppromisesapluscom\\n img srchttppromises...  \n",
       "257  h1 aligncenter\\n img srchttpsgithubcomdreamacr...  \n",
       "259  thi file automat gener chang hand \\n\\nstb\\n\\n\\...  \n",
       "\n",
       "[246 rows x 4 columns]"
      ]
     },
     "execution_count": 17,
     "metadata": {},
     "output_type": "execute_result"
    }
   ],
   "source": [
    "df_clean"
   ]
  },
  {
   "cell_type": "code",
   "execution_count": 11,
   "id": "6d23bce9-166a-4c17-a7f2-87595d8e0e65",
   "metadata": {},
   "outputs": [],
   "source": [
    "all_words = ' '.join(df_clean['readme_contents_clean'])\n",
    "js_words = ' '.join(df_clean[df_clean.language == 'JavaScript']['readme_contents_clean'])\n",
    "ja_words = ' '.join(df_clean[df_clean.language == 'Java']['readme_contents_clean'])\n",
    "py_words = ' '.join(df_clean[df_clean.language == 'Python']['readme_contents_clean'])\n",
    "ru_words = ' '.join(df_clean[df_clean.language == 'Ruby']['readme_contents_clean'])\n",
    "ot_words = ' '.join(df_clean[df_clean.language == 'Other']['readme_contents_clean'])"
   ]
  },
  {
   "cell_type": "code",
   "execution_count": 12,
   "id": "651abdd2-9f50-48d2-bfb5-71f7a2e314f4",
   "metadata": {},
   "outputs": [],
   "source": [
    "all_freq = pd.Series(all_words.split()).value_counts()\n",
    "js_freq = pd.Series(js_words.split()).value_counts()\n",
    "ja_freq = pd.Series(ja_words.split()).value_counts()\n",
    "py_freq = pd.Series(py_words.split()).value_counts()\n",
    "ru_freq = pd.Series(ru_words.split()).value_counts()\n",
    "ot_freq = pd.Series(ot_words.split()).value_counts()"
   ]
  },
  {
   "cell_type": "code",
   "execution_count": 13,
   "id": "4baeb51e-4c95-4d04-afc7-2c2340a349b7",
   "metadata": {},
   "outputs": [
    {
     "data": {
      "text/plain": [
       "thi        6202\n",
       "file       3926\n",
       "run        3164\n",
       "a          2929\n",
       "support    2920\n",
       "dtype: int64"
      ]
     },
     "execution_count": 13,
     "metadata": {},
     "output_type": "execute_result"
    }
   ],
   "source": [
    "all_freq.head()"
   ]
  },
  {
   "cell_type": "code",
   "execution_count": 14,
   "id": "b8938f1c-89de-489f-84f7-40c0dfca7642",
   "metadata": {},
   "outputs": [
    {
     "data": {
      "text/plain": [
       "javascript    1656\n",
       "thi           1644\n",
       "sourc         1234\n",
       "file          1135\n",
       "a             1122\n",
       "dtype: int64"
      ]
     },
     "execution_count": 14,
     "metadata": {},
     "output_type": "execute_result"
    }
   ],
   "source": [
    "js_freq.head()"
   ]
  },
  {
   "cell_type": "code",
   "execution_count": 15,
   "id": "bcb1e66a-2c37-4117-8ae1-be80d991ea53",
   "metadata": {},
   "outputs": [
    {
     "data": {
      "text/plain": [
       "python    2085\n",
       "thi       1432\n",
       "video     1005\n",
       "file       969\n",
       "data       963\n",
       "dtype: int64"
      ]
     },
     "execution_count": 15,
     "metadata": {},
     "output_type": "execute_result"
    }
   ],
   "source": [
    "py_freq.head()"
   ]
  },
  {
   "cell_type": "code",
   "execution_count": 16,
   "id": "72afd6cf-5fd3-41c8-9175-bae764384a84",
   "metadata": {},
   "outputs": [
    {
     "data": {
      "text/plain": [
       "ruby    2004\n",
       "end     1952\n",
       "thi     1925\n",
       "run     1207\n",
       "file    1106\n",
       "dtype: int64"
      ]
     },
     "execution_count": 16,
     "metadata": {},
     "output_type": "execute_result"
    }
   ],
   "source": [
    "ru_freq.head()"
   ]
  },
  {
   "cell_type": "code",
   "execution_count": 17,
   "id": "53c1fb2f-e004-45a9-a93f-1e53ab70dc67",
   "metadata": {},
   "outputs": [
    {
     "data": {
      "text/plain": [
       "free     1099\n",
       "build     955\n",
       "rust      447\n",
       "api       407\n",
       "gener     375\n",
       "dtype: int64"
      ]
     },
     "execution_count": 17,
     "metadata": {},
     "output_type": "execute_result"
    }
   ],
   "source": [
    "ot_freq.head()"
   ]
  },
  {
   "cell_type": "code",
   "execution_count": 18,
   "id": "bf264333-5c8a-4410-8c33-52369d1436bc",
   "metadata": {},
   "outputs": [
    {
     "data": {
      "text/html": [
       "<div>\n",
       "<style scoped>\n",
       "    .dataframe tbody tr th:only-of-type {\n",
       "        vertical-align: middle;\n",
       "    }\n",
       "\n",
       "    .dataframe tbody tr th {\n",
       "        vertical-align: top;\n",
       "    }\n",
       "\n",
       "    .dataframe thead th {\n",
       "        text-align: right;\n",
       "    }\n",
       "</style>\n",
       "<table border=\"1\" class=\"dataframe\">\n",
       "  <thead>\n",
       "    <tr style=\"text-align: right;\">\n",
       "      <th></th>\n",
       "      <th>js</th>\n",
       "      <th>ja</th>\n",
       "      <th>py</th>\n",
       "      <th>ru</th>\n",
       "      <th>ot</th>\n",
       "      <th>all</th>\n",
       "    </tr>\n",
       "  </thead>\n",
       "  <tbody>\n",
       "    <tr>\n",
       "      <th>javascript</th>\n",
       "      <td>1656</td>\n",
       "      <td>24</td>\n",
       "      <td>73</td>\n",
       "      <td>140</td>\n",
       "      <td>72</td>\n",
       "      <td>1965</td>\n",
       "    </tr>\n",
       "    <tr>\n",
       "      <th>thi</th>\n",
       "      <td>1644</td>\n",
       "      <td>829</td>\n",
       "      <td>1432</td>\n",
       "      <td>1925</td>\n",
       "      <td>372</td>\n",
       "      <td>6202</td>\n",
       "    </tr>\n",
       "    <tr>\n",
       "      <th>sourc</th>\n",
       "      <td>1234</td>\n",
       "      <td>148</td>\n",
       "      <td>318</td>\n",
       "      <td>270</td>\n",
       "      <td>229</td>\n",
       "      <td>2199</td>\n",
       "    </tr>\n",
       "    <tr>\n",
       "      <th>file</th>\n",
       "      <td>1135</td>\n",
       "      <td>411</td>\n",
       "      <td>969</td>\n",
       "      <td>1106</td>\n",
       "      <td>305</td>\n",
       "      <td>3926</td>\n",
       "    </tr>\n",
       "    <tr>\n",
       "      <th>a</th>\n",
       "      <td>1122</td>\n",
       "      <td>377</td>\n",
       "      <td>594</td>\n",
       "      <td>600</td>\n",
       "      <td>236</td>\n",
       "      <td>2929</td>\n",
       "    </tr>\n",
       "    <tr>\n",
       "      <th>...</th>\n",
       "      <td>...</td>\n",
       "      <td>...</td>\n",
       "      <td>...</td>\n",
       "      <td>...</td>\n",
       "      <td>...</td>\n",
       "      <td>...</td>\n",
       "    </tr>\n",
       "    <tr>\n",
       "      <th>docbook4</th>\n",
       "      <td>0</td>\n",
       "      <td>0</td>\n",
       "      <td>0</td>\n",
       "      <td>0</td>\n",
       "      <td>1</td>\n",
       "      <td>1</td>\n",
       "    </tr>\n",
       "    <tr>\n",
       "      <th>contexthttpswwwcontextgardennet</th>\n",
       "      <td>0</td>\n",
       "      <td>0</td>\n",
       "      <td>0</td>\n",
       "      <td>0</td>\n",
       "      <td>1</td>\n",
       "      <td>1</td>\n",
       "    </tr>\n",
       "    <tr>\n",
       "      <th>beamerhttpsctanorgpkgbeam</th>\n",
       "      <td>0</td>\n",
       "      <td>0</td>\n",
       "      <td>0</td>\n",
       "      <td>0</td>\n",
       "      <td>1</td>\n",
       "      <td>1</td>\n",
       "    </tr>\n",
       "    <tr>\n",
       "      <th>beamer</th>\n",
       "      <td>0</td>\n",
       "      <td>0</td>\n",
       "      <td>0</td>\n",
       "      <td>0</td>\n",
       "      <td>1</td>\n",
       "      <td>1</td>\n",
       "    </tr>\n",
       "    <tr>\n",
       "      <th>asciidoctorhttpsasciidoctororg</th>\n",
       "      <td>0</td>\n",
       "      <td>0</td>\n",
       "      <td>0</td>\n",
       "      <td>0</td>\n",
       "      <td>1</td>\n",
       "      <td>1</td>\n",
       "    </tr>\n",
       "  </tbody>\n",
       "</table>\n",
       "<p>128853 rows × 6 columns</p>\n",
       "</div>"
      ],
      "text/plain": [
       "                                   js   ja    py    ru   ot   all\n",
       "javascript                       1656   24    73   140   72  1965\n",
       "thi                              1644  829  1432  1925  372  6202\n",
       "sourc                            1234  148   318   270  229  2199\n",
       "file                             1135  411   969  1106  305  3926\n",
       "a                                1122  377   594   600  236  2929\n",
       "...                               ...  ...   ...   ...  ...   ...\n",
       "docbook4                            0    0     0     0    1     1\n",
       "contexthttpswwwcontextgardennet     0    0     0     0    1     1\n",
       "beamerhttpsctanorgpkgbeam           0    0     0     0    1     1\n",
       "beamer                              0    0     0     0    1     1\n",
       "asciidoctorhttpsasciidoctororg      0    0     0     0    1     1\n",
       "\n",
       "[128853 rows x 6 columns]"
      ]
     },
     "execution_count": 18,
     "metadata": {},
     "output_type": "execute_result"
    }
   ],
   "source": [
    "word_counts = pd.concat([js_freq, ja_freq, py_freq, ru_freq, ot_freq, all_freq], axis=1).fillna(0).astype(int)\n",
    "word_counts.columns = ['js', 'ja', 'py', 'ru', 'ot', 'all']\n",
    "word_counts"
   ]
  },
  {
   "cell_type": "code",
   "execution_count": 19,
   "id": "3243d873-31f3-4517-b0ac-e177b71ed835",
   "metadata": {},
   "outputs": [],
   "source": [
    "import matplotlib.pyplot as plt"
   ]
  },
  {
   "cell_type": "code",
   "execution_count": 20,
   "id": "160fccad-0ce0-4dd0-8012-9f8d2aa37050",
   "metadata": {},
   "outputs": [
    {
     "data": {
      "text/plain": [
       "Text(0.5, 1.0, '% of lang for the most common 20 words')"
      ]
     },
     "execution_count": 20,
     "metadata": {},
     "output_type": "execute_result"
    },
    {
     "data": {
      "text/plain": [
       "<Figure size 1152x648 with 0 Axes>"
      ]
     },
     "metadata": {},
     "output_type": "display_data"
    },
    {
     "data": {
      "image/png": "[encoded data removed]",
      "text/plain": [
       "<Figure size 432x288 with 1 Axes>"
      ]
     },
     "metadata": {
      "needs_background": "light"
     },
     "output_type": "display_data"
    }
   ],
   "source": [
    "plt.figure(figsize=(16, 9))\n",
    "plt.rc('font', size=16)\n",
    "\n",
    "(word_counts.sort_values('all', ascending=False)\n",
    " .head(20)\n",
    " .apply(lambda row: row/row['all'], axis = 1)\n",
    " .drop(columns = 'all')\n",
    " .sort_values(by = 'js')\n",
    " .plot.barh(stacked = True, width = 1, ec = 'k')\n",
    ")\n",
    "plt.title('% of lang for the most common 20 words')"
   ]
  },
  {
   "cell_type": "code",
   "execution_count": 21,
   "id": "a62a732b-56e9-4c4b-9391-6a52c40cbdbe",
   "metadata": {},
   "outputs": [],
   "source": [
    "from sklearn.feature_extraction.text import CountVectorizer\n",
    "from sklearn.feature_extraction.text import TfidfVectorizer\n",
    "from sklearn.model_selection import train_test_split\n",
    "from sklearn.tree import DecisionTreeClassifier"
   ]
  },
  {
   "cell_type": "code",
   "execution_count": 22,
   "id": "b6e8b43b-e08e-450c-9046-0cb44f7ce77e",
   "metadata": {},
   "outputs": [
    {
     "data": {
      "text/plain": [
       "((588,), (196,), (197,))"
      ]
     },
     "execution_count": 22,
     "metadata": {},
     "output_type": "execute_result"
    }
   ],
   "source": [
    "X = df_clean.readme_contents_clean\n",
    "y = df_clean.language\n",
    "\n",
    "X_train, X_test, y_train, y_test = train_test_split(X,\n",
    "                                                   y,\n",
    "                                                   test_size=0.2,\n",
    "                                                   random_state=123)\n",
    "X_train, X_val, y_train, y_val = train_test_split(X_train,\n",
    "                                                 y_train,\n",
    "                                                 test_size=.25,\n",
    "                                                 random_state=123)\n",
    "X_train.shape, X_val.shape, X_test.shape"
   ]
  },
  {
   "cell_type": "code",
   "execution_count": 23,
   "id": "4f0cd209-80e4-48c4-9265-9ca7db9967a1",
   "metadata": {},
   "outputs": [
    {
     "data": {
      "text/plain": [
       "0.8826530612244898"
      ]
     },
     "execution_count": 23,
     "metadata": {},
     "output_type": "execute_result"
    }
   ],
   "source": [
    "cv = CountVectorizer()\n",
    "train_bow = cv.fit_transform(X_train)\n",
    "tree = DecisionTreeClassifier(max_depth=10)\n",
    "tree.fit(train_bow, y_train)\n",
    "tree.score(train_bow, y_train)"
   ]
  },
  {
   "cell_type": "code",
   "execution_count": 24,
   "id": "7800464d-d6bc-49b6-b9fa-20a65652c1b1",
   "metadata": {},
   "outputs": [
    {
     "data": {
      "text/plain": [
       "0.7193877551020408"
      ]
     },
     "execution_count": 24,
     "metadata": {},
     "output_type": "execute_result"
    }
   ],
   "source": [
    "val_bow = cv.transform(X_val)\n",
    "tree.score(val_bow, y_val)"
   ]
  },
  {
   "cell_type": "code",
   "execution_count": 25,
   "id": "f384e824-6175-4fb8-9108-d853d2356042",
   "metadata": {},
   "outputs": [
    {
     "data": {
      "text/plain": [
       "0.8656462585034014"
      ]
     },
     "execution_count": 25,
     "metadata": {},
     "output_type": "execute_result"
    }
   ],
   "source": [
    "tv = TfidfVectorizer()\n",
    "train_bow = tv.fit_transform(X_train)\n",
    "tree = DecisionTreeClassifier(max_depth=10)\n",
    "tree.fit(train_bow, y_train)\n",
    "tree.score(train_bow, y_train)"
   ]
  },
  {
   "cell_type": "code",
   "execution_count": 26,
   "id": "494272e0-cc03-4bbe-b906-faf63c8b7485",
   "metadata": {},
   "outputs": [
    {
     "data": {
      "text/plain": [
       "0.7295918367346939"
      ]
     },
     "execution_count": 26,
     "metadata": {},
     "output_type": "execute_result"
    }
   ],
   "source": [
    "val_bow = tv.transform(X_val)\n",
    "tree.score(val_bow, y_val)"
   ]
  },
  {
   "cell_type": "code",
   "execution_count": 27,
   "id": "0d5c08c6-79de-4234-99be-0964074a3cf9",
   "metadata": {},
   "outputs": [],
   "source": [
    "from sklearn.naive_bayes import MultinomialNB"
   ]
  },
  {
   "cell_type": "code",
   "execution_count": 28,
   "id": "00f8a2dd-7879-4852-af4f-13391e817cd2",
   "metadata": {},
   "outputs": [
    {
     "data": {
      "text/plain": [
       "(0.9744897959183674, 0.75)"
      ]
     },
     "execution_count": 28,
     "metadata": {},
     "output_type": "execute_result"
    }
   ],
   "source": [
    "tv = TfidfVectorizer(ngram_range=(2, 3))\n",
    "train_bow = tv.fit_transform(X_train)\n",
    "val_bow = tv.transform(X_val)\n",
    "\n",
    "# cv = CountVectorizer(ngram_range=(2, 3))\n",
    "# train_bow = cv.fit_transform(X_train)\n",
    "# val_bow = cv.transform(X_val)\n",
    "\n",
    "nb = MultinomialNB(alpha=1)\n",
    "nb.fit(train_bow, y_train)\n",
    "nb.score(train_bow, y_train), nb.score(val_bow, y_val)"
   ]
  },
  {
   "cell_type": "code",
   "execution_count": null,
   "id": "0faa6fce-5f00-4010-bf16-e19aff2dab2f",
   "metadata": {},
   "outputs": [],
   "source": []
  }
 ],
 "metadata": {
  "kernelspec": {
   "display_name": "Python 3 (ipykernel)",
   "language": "python",
   "name": "python3"
  },
  "language_info": {
   "codemirror_mode": {
    "name": "ipython",
    "version": 3
   },
   "file_extension": ".py",
   "mimetype": "text/x-python",
   "name": "python",
   "nbconvert_exporter": "python",
   "pygments_lexer": "ipython3",
   "version": "3.9.12"
  }
 },
 "nbformat": 4,
 "nbformat_minor": 5
}
